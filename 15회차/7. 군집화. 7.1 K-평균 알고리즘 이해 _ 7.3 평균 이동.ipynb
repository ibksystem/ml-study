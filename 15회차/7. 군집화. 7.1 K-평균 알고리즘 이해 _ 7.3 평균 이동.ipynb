{
 "cells": [
  {
   "cell_type": "markdown",
   "metadata": {},
   "source": [
    "# 07. 군집화\n",
    "\n",
    "## 01. K-평균 (K-Means) 알고리즘 이해 \n",
    "\n",
    "* K-평균은 군집 중심점 (centroid) 이라는 특정한 임의의 지점을 선택해 해당 중심에 가장 가까운 포인트 선택하는 군집하 기법\n",
    "* 데이터 분석을 통해 유사하거나 관계가 높은 항목들끼리 집합을 만들고 싶을 때 사용하는 알고리즘\n",
    "\n",
    "### K-평균 동작 방법\n",
    "\n",
    "1. (처음 데이터의 중심값 선택) 랜덤하게 중심값을 선택한다.\n",
    "2. (클러스터 할당) K개의 중심값과 각 개별 데이터간의 거리를 측정한다.\n",
    "    가장 가까운 클러스터에 해당 데이터를 Assign 한다.\n",
    "3. (새 중심값 선택) 클러스터마다 새로운 중심값을 계산한다.\n",
    "4. (범위 확인) 선택된 중심값이 변화가 어느정도 없다면 멈춘다.\n",
    "   만약 데이터의 변화가 있다면 다시 1번부터 반복한다.\n",
    "\n",
    "<img src=\"http://shabal.in/visuals/kmeans/random.gif\" width=\"600\" />\n",
    "\n",
    "\n",
    "### K-평균의 장점\n",
    "\n",
    "* 일반적인 군집화에서 가장 많이 활용\n",
    "* 알고리즘이 쉽고 간결함\n",
    "\n",
    "### K-평균의 단점\n",
    "\n",
    "* 거리 기반 알고리즘으로 속성의 개수가 매우 많을 경우 군집화 정확도 감소 (이를 위해 PCA 로 차원 감소 적용해야 할 수도 있음)\n",
    "* 반복 횟수가 많으면 수행 시간 느려짐\n",
    "* 몇 개의 군집 (cluster)를 선택해야 할지 가이드가 어려움\n",
    "\n"
   ]
  },
  {
   "cell_type": "markdown",
   "metadata": {},
   "source": [
    "### 보조설명 (멀티캠퍼스 강의)\n",
    "\n",
    "<img src=\"https://img1.daumcdn.net/thumb/R1280x0/?scode=mtistory2&fname=https%3A%2F%2Fblog.kakaocdn.net%2Fdn%2FOvU2H%2FbtqGdL24UvK%2FlHGstYuSKqdlykJl8GkPQ0%2Fimg.jpg\" width=\"700\" />\n",
    "\n",
    "<img src=\"https://img1.daumcdn.net/thumb/R1280x0/?scode=mtistory2&fname=https%3A%2F%2Fblog.kakaocdn.net%2Fdn%2Fczofjk%2FbtqGbjzEDrM%2FQ7K8kzyjkRrIkHHTxs9AO0%2Fimg.jpg\" width=\"700\" />\n",
    "\n",
    "<img src=\"https://img1.daumcdn.net/thumb/R1280x0/?scode=mtistory2&fname=https%3A%2F%2Fblog.kakaocdn.net%2Fdn%2FcIM5Ww%2FbtqGbj7s75S%2FK0yJd70k02pnGzrfkCM4A0%2Fimg.jpg\" width=\"700\" />\n",
    "\n",
    "<img src=\"https://img1.daumcdn.net/thumb/R1280x0/?scode=mtistory2&fname=https%3A%2F%2Fblog.kakaocdn.net%2Fdn%2FS7Kpm%2FbtqGbaXs9Ik%2F5Nrmx0zLDfiTkXYuKaITc0%2Fimg.jpg\" width=\"700\" />\n",
    "\n",
    "<img src=\"https://img1.daumcdn.net/thumb/R1280x0/?scode=mtistory2&fname=https%3A%2F%2Fblog.kakaocdn.net%2Fdn%2FETpq3%2FbtqGbawlu7N%2FfZc5stlONsMekyIOb0638K%2Fimg.jpg\" width=\"700\" />\n",
    "\n",
    "<img src=\"https://img1.daumcdn.net/thumb/R1280x0/?scode=mtistory2&fname=https%3A%2F%2Fblog.kakaocdn.net%2Fdn%2F6gVCg%2FbtqGeaBudkQ%2FmPAXSc63YwndZQKOJsHK5K%2Fimg.jpg\" width=\"700\" />\n",
    "\n",
    "<img src=\"https://img1.daumcdn.net/thumb/R1280x0/?scode=mtistory2&fname=https%3A%2F%2Fblog.kakaocdn.net%2Fdn%2FcniF7P%2FbtqGdsbKzlX%2FnXkdIQgo3rKHt5VzPskWG0%2Fimg.jpg\" width=\"700\" />\n",
    "\n",
    "<img src=\"https://img1.daumcdn.net/thumb/R1280x0/?scode=mtistory2&fname=https%3A%2F%2Fblog.kakaocdn.net%2Fdn%2FbTnyCV%2FbtqGbHfXczV%2FIWwCCBV0MB7OsBcCtQFW80%2Fimg.jpg\" width=\"700\" />\n",
    "\n",
    "<img src=\"https://img1.daumcdn.net/thumb/R1280x0/?scode=mtistory2&fname=https%3A%2F%2Fblog.kakaocdn.net%2Fdn%2F0KPCb%2FbtqGe84g4j3%2FvJWzhNAZDKLzsKZElAKXl0%2Fimg.jpg\" width=\"700\" />\n",
    "\n",
    "<img src=\"https://img1.daumcdn.net/thumb/R1280x0/?scode=mtistory2&fname=https%3A%2F%2Fblog.kakaocdn.net%2Fdn%2F4S51L%2FbtqGdMVboqu%2FHgokrhPKEQhKGUWsQBPTsk%2Fimg.jpg\" width=\"700\" />\n",
    "\n",
    "## K-Means Flow\n",
    "\n",
    "<img src=\"https://img1.daumcdn.net/thumb/R1280x0/?scode=mtistory2&fname=https%3A%2F%2Fblog.kakaocdn.net%2Fdn%2FbaOU3h%2FbtqGd2XNxFR%2FAH4E8sct0ohc7I5v6TRUIk%2Fimg.jpg\" width=\"700\" />\n",
    "\n",
    "<img src=\"https://img1.daumcdn.net/thumb/R1280x0/?scode=mtistory2&fname=https%3A%2F%2Fblog.kakaocdn.net%2Fdn%2FZDKVf%2FbtqGd2Q0qw7%2FgmrOx2Km0mKJKNN2bJPNHK%2Fimg.jpg\" width=\"700\" />\n",
    "\n",
    "<img src=\"https://img1.daumcdn.net/thumb/R1280x0/?scode=mtistory2&fname=https%3A%2F%2Fblog.kakaocdn.net%2Fdn%2FbniV8N%2FbtqGcf4OgKV%2FW8hjlDP3klG1NbZ6oi0ppk%2Fimg.jpg\" width=\"700\" />\n",
    "\n",
    "<img src=\"https://img1.daumcdn.net/thumb/R1280x0/?scode=mtistory2&fname=https%3A%2F%2Fblog.kakaocdn.net%2Fdn%2Fc7L9yI%2FbtqGe84g4ml%2F4LdD9pN1kEyhlOryyu7QOK%2Fimg.jpg\" width=\"700\" />\n",
    "\n",
    "<img src=\"https://img1.daumcdn.net/thumb/R1280x0/?scode=mtistory2&fname=https%3A%2F%2Fblog.kakaocdn.net%2Fdn%2FC3CIQ%2FbtqGdQ4jfpQ%2FkajIAxNs8y5gvcafLYoAE1%2Fimg.jpg\" width=\"700\" />\n",
    "\n",
    "<img src=\"https://img1.daumcdn.net/thumb/R1280x0/?scode=mtistory2&fname=https%3A%2F%2Fblog.kakaocdn.net%2Fdn%2FQjWnH%2FbtqGbjfkVNB%2F1oCiUpbCLsRIx3qfCQzPWk%2Fimg.jpg\" width=\"700\" />\n",
    "\n",
    "<img src=\"https://img1.daumcdn.net/thumb/R1280x0/?scode=mtistory2&fname=https%3A%2F%2Fblog.kakaocdn.net%2Fdn%2FX9E4p%2FbtqGdEC1twA%2FPcv36D5xCH2apWL6XaKi81%2Fimg.jpg\" width=\"700\" />\n",
    "\n",
    "<img src=\"https://img1.daumcdn.net/thumb/R1280x0/?scode=mtistory2&fname=https%3A%2F%2Fblog.kakaocdn.net%2Fdn%2FdhqU62%2FbtqGbb9RaL0%2FN2ujxdkgxz7GBw6En0HxAK%2Fimg.jpg\" width=\"700\" />\n"
   ]
  },
  {
   "cell_type": "markdown",
   "metadata": {},
   "source": [
    "## 사이킷런 KMeans 클래스 소개\n",
    "\n",
    "class sklearn.cluster.KMeans(n_clusters=8, *, init='k-means++', n_init=10, max_iter=300, tol=0.0001, precompute_distances='deprecated', verbose=0, random_state=None, copy_x=True, n_jobs='deprecated', algorithm='auto')\n",
    "\n",
    "* n_clusters: 가장 중요한 파라미터. 군집화할 개수, 즉 군집 중심점 개수\n",
    "\n",
    "* init: 초기에 군집 중심점 좌표 설정할 방식. 보통은 k-means++ 방식으로 최초 설정함\n",
    "\n",
    "* max_iter: 최대 반복 횟수, 이 횟수 이전에 모든 데이터의 중심점 이동이 없으면 종료\n",
    "\n",
    "KMeans 수행된 객체에서 알 수 있는 주요 군집화 관련 속성\n",
    "\n",
    "* labels_: 각 데이터 포인트가 속한 군집 중심점 레이블\n",
    "* cluster_centers_ : 각 군집 중심점 좌표 (Shape 는 [군집 개수, 피처 개수]. 이를 이용해 군집 중심점 좌표가 어디인지 시각화 가능\n",
    "\n",
    "\n",
    "\n",
    "\n",
    "\n",
    "### K-Means를 이용한 붓꽃(Iris) 데이터 셋 Clustering"
   ]
  },
  {
   "cell_type": "code",
   "execution_count": null,
   "metadata": {},
   "outputs": [],
   "source": [
    "from sklearn.preprocessing import scale\n",
    "from sklearn.datasets import load_iris\n",
    "from sklearn.cluster import KMeans\n",
    "import matplotlib.pyplot as plt\n",
    "import numpy as np\n",
    "import pandas as pd\n",
    "%matplotlib inline\n",
    "\n",
    "iris = load_iris()\n",
    "# 보다 편리한 데이터 Handling을 위해 DataFrame으로 변환\n",
    "irisDF = pd.DataFrame(data=iris.data, columns=['sepal_length','sepal_width','petal_length','petal_width'])\n",
    "irisDF.head(3)"
   ]
  },
  {
   "cell_type": "code",
   "execution_count": null,
   "metadata": {},
   "outputs": [],
   "source": [
    "#붓꽃 데이터 세트를 3개 그룹으로 군집화 (n_cluster = 3)\n",
    "kmeans = KMeans(n_clusters=3, init='k-means++', max_iter=300,random_state=0).fit(irisDF)"
   ]
  },
  {
   "cell_type": "code",
   "execution_count": null,
   "metadata": {},
   "outputs": [],
   "source": [
    "print(kmeans.labels_)"
   ]
  },
  {
   "cell_type": "code",
   "execution_count": null,
   "metadata": {},
   "outputs": [],
   "source": [
    "#labels_의 값 0,1,2 는 각 레코드가 첫 번쨰 군집, 두 번째 군집, 세 번째 군집에 속함을 의미함\n",
    "#이 값을 isisDF 에 추가\n",
    "irisDF['cluster'] = kmeans.labels_\n",
    "irisDF.head()"
   ]
  },
  {
   "cell_type": "code",
   "execution_count": null,
   "metadata": {},
   "outputs": [],
   "source": [
    "#실제 붓꽃 품종 분류값과 얼마나 차이가 나는지로 군집화가 효과적으로 됐는지 확인\n",
    "#groupby 연산을 실제 분류 값인 target과 군집화 분류 값인 cluster 레벨로 적용해 target 과 cluster 개수를 비교\n",
    "\n",
    "irisDF['target'] = iris.target\n",
    "iris_result = irisDF.groupby(['target','cluster'])['sepal_length'].count()\n",
    "print(iris_result)"
   ]
  },
  {
   "cell_type": "code",
   "execution_count": null,
   "metadata": {},
   "outputs": [],
   "source": [
    "#분류 타깃이 0인 데이터는 1abs번 군집으로 잘 분류\n",
    "#분류 타깃 1인 데이터도 2번 군집으로 분류\n",
    "#분류 타깃 2인 데이터는 0번 군집에 36개, 2번 군집엔 14개로 약간 애매하게 분류됨\n",
    "\n",
    "\n",
    "# 붓꽃 데이터 세트의 군집화 시각화. 속성 4개 -> 2개로 줄임\n",
    "\n",
    "from sklearn.decomposition import PCA\n",
    "\n",
    "pca = PCA(n_components=2)\n",
    "pca_transformed = pca.fit_transform(iris.data)\n",
    "\n",
    "irisDF['pca_x'] = pca_transformed[:,0]\n",
    "irisDF['pca_y'] = pca_transformed[:,1]\n",
    "irisDF.head(3)"
   ]
  },
  {
   "cell_type": "code",
   "execution_count": null,
   "metadata": {},
   "outputs": [],
   "source": [
    "# cluster 값이 0, 1, 2 인 경우마다 별도의 Index로 추출\n",
    "marker0_ind = irisDF[irisDF['cluster']==0].index\n",
    "marker1_ind = irisDF[irisDF['cluster']==1].index\n",
    "marker2_ind = irisDF[irisDF['cluster']==2].index\n",
    "\n",
    "# cluster값 0, 1, 2에 해당하는 Index로 각 cluster 레벨의 pca_x, pca_y 값 추출. o, s, ^ 로 marker 표시\n",
    "plt.scatter(x=irisDF.loc[marker0_ind,'pca_x'], y=irisDF.loc[marker0_ind,'pca_y'], marker='o') \n",
    "plt.scatter(x=irisDF.loc[marker1_ind,'pca_x'], y=irisDF.loc[marker1_ind,'pca_y'], marker='s')\n",
    "plt.scatter(x=irisDF.loc[marker2_ind,'pca_x'], y=irisDF.loc[marker2_ind,'pca_y'], marker='^')\n",
    "\n",
    "plt.xlabel('PCA 1')\n",
    "plt.ylabel('PCA 2')\n",
    "plt.title('3 Clusters Visualization by 2 PCA Components')\n",
    "plt.show()"
   ]
  },
  {
   "cell_type": "markdown",
   "metadata": {},
   "source": [
    "cluster 1 은 명확하게 분리되었지만, cluster 0과 2 는 완전 명확하게 분리되지는 않음"
   ]
  },
  {
   "cell_type": "markdown",
   "metadata": {},
   "source": [
    "### Clustering 알고리즘 테스트를 위한 데이터 생성"
   ]
  },
  {
   "cell_type": "code",
   "execution_count": null,
   "metadata": {},
   "outputs": [],
   "source": [
    "#군집화용 데이터 생성기 make_blobs, make_classifications api 중 make_blobs 사용\n",
    "#n_samples: 총 데이터 개수. 디폴트 100개\n",
    "#n_features: 데이터 치퍼 개수. 보통 2개 (x,y)\n",
    "#centers: int값. 군집의 개수를 나타냄. ndarray 로 나타낼 경우 개별 군집 중심점의 좌표 의미\n",
    "#cluster_std: 생성될 군집 데이터의 표준 편차 의미. 군집별로 서로 다른 표준편차를 가진 데이터 세트를 만들때 사용\n",
    "\n",
    "import numpy as np\n",
    "import matplotlib.pyplot as plt\n",
    "from sklearn.cluster import KMeans\n",
    "from sklearn.datasets import make_blobs\n",
    "%matplotlib inline\n",
    "\n",
    "#총 200개의 레코드와 2개의 피처가 3개의 군집화 기반 분포도를 가진 피처 데이터 세트 X와, 동시에 3개의 군집화 값을 가진 타깃 데이터 세트 y 반환\n",
    "X, y = make_blobs(n_samples=200, n_features=2, centers=3, cluster_std=0.8, random_state=0)\n",
    "print(X.shape, y.shape)\n",
    "\n",
    "# y target 값의 분포를 확인\n",
    "unique, counts = np.unique(y, return_counts=True)\n",
    "print(unique,counts)"
   ]
  },
  {
   "cell_type": "code",
   "execution_count": null,
   "metadata": {},
   "outputs": [],
   "source": [
    "# (200, 2) 피처 데이터 세트\n",
    "# (200,) 군집 타깃 데이터 세트 \n",
    "# [0 1 2] 3개의 cluster 값 [67 67 66] 개로 균일하게 구성됨\n",
    "\n",
    "# 편리한 데이터 가공을 위해 위 데이터 세트를 DataFrame 으로 변경\n",
    "\n",
    "import pandas as pd\n",
    "\n",
    "clusterDF = pd.DataFrame(data=X, columns=['ftr1', 'ftr2'])\n",
    "clusterDF['target'] = y\n",
    "clusterDF.head(3)"
   ]
  },
  {
   "cell_type": "code",
   "execution_count": null,
   "metadata": {},
   "outputs": [],
   "source": [
    "target_list = np.unique(y)\n",
    "# 각 target별 scatter plot 의 marker 값들. \n",
    "markers=['o', 's', '^', 'P','D','H','x']\n",
    "# 3개의 cluster 영역으로 구분한 데이터 셋을 생성했으므로 target_list는 [0,1,2]\n",
    "# target==0, target==1, target==2 로 scatter plot을 marker별로 생성. \n",
    "for target in target_list:\n",
    "    target_cluster = clusterDF[clusterDF['target']==target]\n",
    "    plt.scatter(x=target_cluster['ftr1'], y=target_cluster['ftr2'], edgecolor='k', marker=markers[target] )\n",
    "plt.show()"
   ]
  },
  {
   "cell_type": "code",
   "execution_count": null,
   "metadata": {},
   "outputs": [],
   "source": [
    "# KMeans 객체를 이용하여 X 데이터를 K-Means 클러스터링 수행 \n",
    "kmeans = KMeans(n_clusters=3, init='k-means++', max_iter=200, random_state=0)\n",
    "cluster_labels = kmeans.fit_predict(X)\n",
    "clusterDF['kmeans_label']  = cluster_labels"
   ]
  },
  {
   "cell_type": "code",
   "execution_count": null,
   "metadata": {},
   "outputs": [],
   "source": [
    "#cluster_centers_ 는 개별 클러스터의 중심 위치 좌표 시각화를 위해 추출\n",
    "centers = kmeans.cluster_centers_\n",
    "unique_labels = np.unique(cluster_labels)\n",
    "markers=['o', 's', '^', 'P','D','H','x']\n",
    "\n",
    "# 군집된 label 유형별로 iteration 하면서 marker 별로 scatter plot 수행. \n",
    "for label in unique_labels:\n",
    "    label_cluster = clusterDF[clusterDF['kmeans_label']==label]\n",
    "    center_x_y = centers[label]\n",
    "    plt.scatter(x=label_cluster['ftr1'], y=label_cluster['ftr2'], edgecolor='k', marker=markers[label] )\n",
    "    \n",
    "    # 군집별 중심 위치 좌표 시각화 \n",
    "    plt.scatter(x=center_x_y[0], y=center_x_y[1], s=500, color='white', alpha=0.9, edgecolor='k', marker=markers[label])\n",
    "    plt.scatter(x=center_x_y[0], y=center_x_y[1], s=100, color='k', edgecolor='k', marker='$%d$' % label)\n",
    "\n",
    "plt.show()"
   ]
  },
  {
   "cell_type": "code",
   "execution_count": null,
   "metadata": {},
   "outputs": [],
   "source": [
    "print(clusterDF.groupby('target')['kmeans_label'].value_counts())"
   ]
  },
  {
   "cell_type": "markdown",
   "metadata": {},
   "source": [
    "거의 대부분 잘 매핑된 것을 확인할 수 있음\n",
    "\n",
    "<br/><br/>\n",
    "\n",
    "## 군집 평가 Cluster Evaluation\n",
    "\n",
    "* 붓꽃 데이터 세트는 군집화 결과를 타깃 레이블과 비교할 수 있었지만, 대부분의 데이터는 군집화가 잘됐는지 비교할 만한 타깃 레이블을 가지고 있지 않음\n",
    "* 군집화가 효율적으로 잘 됐는지 평가할 수 있는 지표 중 대표적으로 실루엣 분석을 사용\n",
    "\n",
    "### 실루엣 분석의 개요\n",
    "\n",
    "* 다른 군집과의 거리는 떨어져 있고, 동일 군집 데이터끼리는 잘 뭉쳐 있을수록 잘 분리되어 있는 것\n",
    "* 실루엣 계수(silhouette coefficient) 사용하여 측정. 실루엣 계수란 개별 데이터가 가지는 군집화 지표. \n",
    "\n",
    "<img src=\"https://mkjjo.github.io/img/posting/2019-01-09-001-silhoutte.PNG\" width=\"300\" />\n",
    "\n",
    "* a(i) 해당 데이터 포인트와 같은 군집 내에 있는 다른 데이터 포인트와의 거리를 평균한 값\n",
    "* b(i) 해당 데이터 포인트가 속하지 않은 군집 중 가장 가까운 군집과의 평균거리\n",
    "* 실루엣 계수는 -1 에서 1 사이의 값을 가짐\n",
    "* 1에 가까울수록 근처의 군집과 더 멀리 떨어져 있다는 뜻\n",
    "* 0에 가까울수록 근처의 군집과 가까워진다는 것\n",
    "* ㅡ 값은 아예 다른 군집에 데이터 할당되었음을 뜻함\n",
    "\n",
    "\n",
    "### 사이킷런 제공 함수\n",
    "\n",
    "sklearn.metrics.silhouette_samples(X, labels, *, metric='euclidean', **kwds)\n",
    "* 입력: X feature 데이터 세트, 각 피처 데이터 세트가 속한 군집 레이블 값인 labels 데이터\n",
    "* 출력: 각 데이터 포인트의 실루엣 계수\n",
    "\n",
    "sklearn.metrics.silhouette_score(X, labels, *, metric='euclidean', sample_size=None, random_state=None, **kwds)\n",
    "* 입력: X feature 데이터 세트, 각 피처 데이터 세트가 속한 군집 레이블 값인 labels 데이터\n",
    "* 출력: 전체 데이터의 실루엣 계수 값을 평균해 반환\n",
    "* 이 값이 높다고 무조건 잘 되었다고 판단할 수는 없음\n",
    "\n",
    "### 좋은 군집화의 기준\n",
    "\n",
    "* silhouette_score() 값은 0~1 값을 가지며 1에 가까울수록 좋음\n",
    "* 전체 실루엣 계수의 평균값과 더불어 개별 군집의 평균값의 편차가 크지 않아야 함. 즉 개별 군집의 실루엣 계수 평균값이 전체 실루엣 계수의 평균값에서 크게 벗어나지 않아야 함.\n",
    "\n",
    "\n",
    "\n",
    "\n",
    "### 붓꽃(Iris) 데이터 셋을 이용한 클러스터 평가"
   ]
  },
  {
   "cell_type": "code",
   "execution_count": null,
   "metadata": {},
   "outputs": [],
   "source": [
    "from sklearn.preprocessing import scale\n",
    "from sklearn.datasets import load_iris\n",
    "from sklearn.cluster import KMeans\n",
    "# 실루엣 분석 metric 값을 구하기 위한 API 추가\n",
    "from sklearn.metrics import silhouette_samples, silhouette_score\n",
    "import matplotlib.pyplot as plt\n",
    "import numpy as np\n",
    "import pandas as pd\n",
    "\n",
    "%matplotlib inline\n",
    "\n",
    "iris = load_iris()\n",
    "feature_names = ['sepal_length','sepal_width','petal_length','petal_width']\n",
    "irisDF = pd.DataFrame(data=iris.data, columns=feature_names)\n",
    "kmeans = KMeans(n_clusters=3, init='k-means++', max_iter=300, random_state=0).fit(irisDF)\n",
    "\n",
    "irisDF['cluster'] = kmeans.labels_\n",
    "\n",
    "# iris 의 모든 개별 데이터에 실루엣 계수값을 구함. \n",
    "score_samples = silhouette_samples(iris.data, irisDF['cluster'])\n",
    "print('silhouette_samples( ) return 값의 shape' , score_samples.shape)\n",
    "\n",
    "# irisDF에 실루엣 계수 컬럼 추가\n",
    "irisDF['silhouette_coeff'] = score_samples\n",
    "\n",
    "# 모든 데이터의 평균 실루엣 계수값을 구함. \n",
    "average_score = silhouette_score(iris.data, irisDF['cluster'])\n",
    "print('붓꽃 데이터셋 Silhouette Analysis Score:{0:.3f}'.format(average_score))\n",
    "\n",
    "irisDF.head(3)"
   ]
  },
  {
   "cell_type": "code",
   "execution_count": null,
   "metadata": {},
   "outputs": [],
   "source": [
    "#군집별 평균 실루엣 계수 값\n",
    "irisDF.groupby('cluster')['silhouette_coeff'].mean()"
   ]
  },
  {
   "cell_type": "markdown",
   "metadata": {},
   "source": [
    "0, 2번은 상대적으로 평균값이 1번보다 낮음\n",
    "\n",
    "<br/>\n",
    "\n",
    "### 클러스터별 평균 실루엣 계수의 시각화를 통한 클러스터 개수 최적화 방법\n",
    "\n",
    "[사이킷런 예시 보기]\n",
    "<a href=\"https://scikit-learn.org/stable/auto_examples/cluster/plot_kmeans_silhouette_analysis.html\" target=\"_blank\">https://scikit-learn.org/stable/auto_examples/cluster/plot_kmeans_silhouette_analysis.html </a>\n",
    "\n",
    "\n",
    "<img src=\"https://scikit-learn.org/stable/_images/sphx_glr_plot_kmeans_silhouette_analysis_001.png\" />\n",
    "\n",
    "군집 개수가 2일 때 평균 실루엣 계수는 0.704 로 높은 편이지만 \n",
    "0번 데이터를 보면 내부 데이터끼리 많이 떨어져 있는 모습임\n",
    "\n",
    "<br/>\n",
    "<br/>\n",
    "\n",
    "<img src=\"https://scikit-learn.org/stable/_images/sphx_glr_plot_kmeans_silhouette_analysis_002.png\" />\n",
    "\n",
    "군집 개수가 3일 때 평균 실루엣 계수는 0.588 로 2개 군집화보다 낮아졌지만 \n",
    "0번 실루엣 계수는 모두 평균보다 낮음 (왼쪽 그림).\n",
    "\n",
    "<br/>\n",
    "<br/>\n",
    "\n",
    "<img src=\"https://scikit-learn.org/stable/_images/sphx_glr_plot_kmeans_silhouette_analysis_003.png\" />\n",
    "\n",
    "군집 개수가 4일 때 평균 실루엣 계수는 0.65 로 2개 군집화보다 낮지만 \n",
    "왼쪽 그림을 보면 개별 군집의 평균 실루엣 값이 비교적 균일함\n",
    "4개인 경우가 가장 이상적인 군집화 계수로 판단할 수 있음\n",
    "\n",
    "\n",
    "\n",
    "    \n"
   ]
  },
  {
   "cell_type": "code",
   "execution_count": null,
   "metadata": {},
   "outputs": [],
   "source": [
    "### 여러개의 클러스터링 갯수를 List로 입력 받아 각각의 실루엣 계수를 면적으로 시각화한 함수 작성\n",
    "def visualize_silhouette(cluster_lists, X_features): \n",
    "    \n",
    "    from sklearn.datasets import make_blobs\n",
    "    from sklearn.cluster import KMeans\n",
    "    from sklearn.metrics import silhouette_samples, silhouette_score\n",
    "\n",
    "    import matplotlib.pyplot as plt\n",
    "    import matplotlib.cm as cm\n",
    "    import math\n",
    "    \n",
    "    # 입력값으로 클러스터링 갯수들을 리스트로 받아서, 각 갯수별로 클러스터링을 적용하고 실루엣 개수를 구함\n",
    "    n_cols = len(cluster_lists)\n",
    "    \n",
    "    # plt.subplots()으로 리스트에 기재된 클러스터링 수만큼의 sub figures를 가지는 axs 생성 \n",
    "    fig, axs = plt.subplots(figsize=(4*n_cols, 4), nrows=1, ncols=n_cols)\n",
    "    \n",
    "    # 리스트에 기재된 클러스터링 갯수들을 차례로 iteration 수행하면서 실루엣 개수 시각화\n",
    "    for ind, n_cluster in enumerate(cluster_lists):\n",
    "        \n",
    "        # KMeans 클러스터링 수행하고, 실루엣 스코어와 개별 데이터의 실루엣 값 계산. \n",
    "        clusterer = KMeans(n_clusters = n_cluster, max_iter=500, random_state=0)\n",
    "        cluster_labels = clusterer.fit_predict(X_features)\n",
    "        \n",
    "        sil_avg = silhouette_score(X_features, cluster_labels)\n",
    "        sil_values = silhouette_samples(X_features, cluster_labels)\n",
    "        \n",
    "        y_lower = 10\n",
    "        axs[ind].set_title('Number of Cluster : '+ str(n_cluster)+'\\n' \\\n",
    "                          'Silhouette Score :' + str(round(sil_avg,3)) )\n",
    "        axs[ind].set_xlabel(\"The silhouette coefficient values\")\n",
    "        axs[ind].set_ylabel(\"Cluster label\")\n",
    "        axs[ind].set_xlim([-0.1, 1])\n",
    "        axs[ind].set_ylim([0, len(X_features) + (n_cluster + 1) * 10])\n",
    "        axs[ind].set_yticks([])  # Clear the yaxis labels / ticks\n",
    "        axs[ind].set_xticks([0, 0.2, 0.4, 0.6, 0.8, 1])\n",
    "        \n",
    "        # 클러스터링 갯수별로 fill_betweenx( )형태의 막대 그래프 표현. \n",
    "        for i in range(n_cluster):\n",
    "            ith_cluster_sil_values = sil_values[cluster_labels==i]\n",
    "            ith_cluster_sil_values.sort()\n",
    "            \n",
    "            size_cluster_i = ith_cluster_sil_values.shape[0]\n",
    "            y_upper = y_lower + size_cluster_i\n",
    "            \n",
    "            color = cm.nipy_spectral(float(i) / n_cluster)\n",
    "            axs[ind].fill_betweenx(np.arange(y_lower, y_upper), 0, ith_cluster_sil_values, \\\n",
    "                                facecolor=color, edgecolor=color, alpha=0.7)\n",
    "            axs[ind].text(-0.05, y_lower + 0.5 * size_cluster_i, str(i))\n",
    "            y_lower = y_upper + 10\n",
    "            \n",
    "        axs[ind].axvline(x=sil_avg, color=\"red\", linestyle=\"--\")"
   ]
  },
  {
   "cell_type": "code",
   "execution_count": null,
   "metadata": {},
   "outputs": [],
   "source": [
    "# make_blobs 을 통해 clustering 을 위한 4개의 클러스터 중심의 500개 2차원 데이터 셋 생성  \n",
    "from sklearn.datasets import make_blobs\n",
    "X, y = make_blobs(n_samples=500, n_features=2, centers=4, cluster_std=1, \\\n",
    "                  center_box=(-10.0, 10.0), shuffle=True, random_state=1)  \n",
    "\n",
    "# cluster 개수를 2개, 3개, 4개, 5개 일때의 클러스터별 실루엣 계수 평균값을 시각화 \n",
    "visualize_silhouette([ 2, 3, 4, 5, 6], X)"
   ]
  },
  {
   "cell_type": "code",
   "execution_count": null,
   "metadata": {},
   "outputs": [],
   "source": [
    "#4개의 군집일 때 가장 최적이 됨을 알 수 있음\n",
    "\n",
    "#붓꽃 데이터를 이용해 K-평균 수행 시 최적의 군집 개수\n",
    "\n",
    "from sklearn.datasets import load_iris\n",
    "\n",
    "iris=load_iris()\n",
    "visualize_silhouette([ 2, 3, 4, 5, 6 ], iris.data)"
   ]
  },
  {
   "cell_type": "markdown",
   "metadata": {},
   "source": [
    "* 실루엣 계수를 통한 K-평균 군집 평가 방법은 직관적으로 이해하기 쉽지만, 데이터 양이 늘어나면 수행 시간이 크게 늘어남 -> 군집별로 임의의 데이터 샘플링해 실루엣 계수를 평가해야 함\n",
    "<br/><br/>\n",
    "\n",
    "## 평균 이동 (Mean Shift) \n",
    "\n",
    "### 평균 이동의 개요\n",
    "\n",
    "* K-Means (K-평균)과 유사하게 군집의 중심으로 지속적으로 움직이면서 군집화 수행\n",
    "* K-Means 가 중심에 소속된 데이터의 평균 거리 중심으로 이동하는 반면, Mean Shift 는 데이터가 모인 밀도가 가장 높은 곳으로 이동\n",
    "\n",
    "<img src=\"https://t1.daumcdn.net/cfile/tistory/2366BF4051930CE922\" width=\"500\" />\n",
    "\n",
    "1. 초기 군집 중심점과 대역폭 설정\n",
    "2. 대역폭 내에서 데이터 밀도가 높은 곳으로 중심점 이동\n",
    "3. 이동한 곳에서 대역폭 내의 데이터 밀도 측정\n",
    "4. 대역폭 내의 데이터 밀도가 높은 곳으로 중심점 이동\n",
    "1-4를 반복하여 가장 데이터 밀도가 높은 Peak 지점을 기준으로 군집화 수행\n",
    "\n",
    "<br/>\n",
    "\n",
    "* 평균 이동은 데이터의 분포도를 이용해 군집 중심점을 찾음. 이를 위해 확률 밀도 함수(probability density function) 이용\n",
    "* 주어진 모델의 확률밀도함수를 찾기 위해서 KDE(Kernel Density Estimation) 이용\n",
    "* 임의의 포인트에서 시작해 피크 포인트를 찾을 때까지 KDE 반복 적용하며 군집화 수행\n",
    "* K-Means 와 다르게 군집의 개수 지정할 필요 없음\n",
    "* 대역폭 크기에 따라 알고리즘 자체에서 군집의 개수를 최적으로 정함\n",
    "* 대역폭 크기를 어떤 값으로 설정하는가에 따라 군집화의 품질이 결정됨\n",
    "\n",
    "#### 평균 이동(Mean Shift) 의 장점\n",
    "\n",
    "* 데이터 형태를 특정 형태로 가정하거나, 특정 분포도 기반의 모델로 가정하지 않기 때문에 좀 더 유연한 군집화 가능\n",
    "* 이상치의 영향력도 크지 않고, 미리 군집의 개수를 정할 필요 없음\n",
    "\n",
    "#### 평균 이동(Mean Shift) 의 단점\n",
    "\n",
    "* 알고리즘의 수행시간 오래 걸림\n",
    "* bandwidth 의 크기에 따른 군집화 영향도가 매우 큼\n",
    "\n",
    "일반적으로 업무 기반의 데이터 세트보다는 컴퓨터 비전 영역 (이미지나 영상에서 특정 개체를 구분하거나 움직임을 추적) 에서 많이 사용"
   ]
  },
  {
   "cell_type": "code",
   "execution_count": 1,
   "metadata": {},
   "outputs": [
    {
     "data": {
      "image/jpeg": "[encoded data removed]",
      "text/html": [
       "\n",
       "        <iframe\n",
       "            width=\"400\"\n",
       "            height=\"300\"\n",
       "            src=\"https://www.youtube.com/embed/RG5uV_h50b0\"\n",
       "            frameborder=\"0\"\n",
       "            allowfullscreen\n",
       "        ></iframe>\n",
       "        "
      ],
      "text/plain": [
       "<IPython.lib.display.YouTubeVideo at 0x7f85203c7dd0>"
      ]
     },
     "execution_count": 1,
     "metadata": {},
     "output_type": "execute_result"
    }
   ],
   "source": [
    "#Mean Shift Tracking 영상\n",
    "\n",
    "from IPython.lib.display import YouTubeVideo\n",
    "YouTubeVideo('RG5uV_h50b0')"
   ]
  },
  {
   "cell_type": "code",
   "execution_count": null,
   "metadata": {},
   "outputs": [],
   "source": [
    "import numpy as np\n",
    "from sklearn.datasets import make_blobs\n",
    "from sklearn.cluster import MeanShift\n",
    "\n",
    "X, y = make_blobs(n_samples=200, n_features=2, centers=3, cluster_std=0.8, random_state=0)\n",
    "\n",
    "meanshift= MeanShift(bandwidth=0.9) #대역폭 크기 0.9\n",
    "cluster_labels = meanshift.fit_predict(X)\n",
    "print('cluster labels 유형:', np.unique(cluster_labels))"
   ]
  },
  {
   "cell_type": "code",
   "execution_count": null,
   "metadata": {},
   "outputs": [],
   "source": [
    "#대역폭을 높임\n",
    "meanshift= MeanShift(bandwidth=1)\n",
    "cluster_labels = meanshift.fit_predict(X)\n",
    "print('cluster labels 유형:', np.unique(cluster_labels))"
   ]
  },
  {
   "cell_type": "code",
   "execution_count": null,
   "metadata": {},
   "outputs": [],
   "source": [
    "#최적화된 bandwidth를 찾아주는 함수 사용\n",
    "\n",
    "from sklearn.cluster import estimate_bandwidth\n",
    "\n",
    "bandwidth = estimate_bandwidth(X,quantile=0.2)\n",
    "print('bandwidth 값:', round(bandwidth,3))"
   ]
  },
  {
   "cell_type": "code",
   "execution_count": null,
   "metadata": {},
   "outputs": [],
   "source": [
    "import pandas as pd\n",
    "\n",
    "clusterDF = pd.DataFrame(data=X, columns=['ftr1', 'ftr2'])\n",
    "clusterDF['target'] = y\n",
    "\n",
    "# estimate_bandwidth()로 최적의 bandwidth 계산\n",
    "best_bandwidth = estimate_bandwidth(X, quantile=0.2)\n",
    "\n",
    "meanshift= MeanShift(bandwidth=1)\n",
    "cluster_labels = meanshift.fit_predict(X)\n",
    "print('cluster labels 유형:',np.unique(cluster_labels))    "
   ]
  },
  {
   "cell_type": "code",
   "execution_count": null,
   "metadata": {},
   "outputs": [],
   "source": [
    "import matplotlib.pyplot as plt\n",
    "%matplotlib inline\n",
    "\n",
    "clusterDF['meanshift_label']  = cluster_labels\n",
    "centers = meanshift.cluster_centers_\n",
    "unique_labels = np.unique(cluster_labels)\n",
    "markers=['o', 's', '^', 'x', '*']\n",
    "\n",
    "for label in unique_labels:\n",
    "    label_cluster = clusterDF[clusterDF['meanshift_label']==label]\n",
    "    center_x_y = centers[label]\n",
    "    # 군집별로 다른 marker로 scatter plot 적용\n",
    "    plt.scatter(x=label_cluster['ftr1'], y=label_cluster['ftr2'], edgecolor='k', \n",
    "                marker=markers[label] )\n",
    "    \n",
    "    # 군집별 중심 시각화\n",
    "    plt.scatter(x=center_x_y[0], y=center_x_y[1], s=200, color='white',\n",
    "                edgecolor='k', alpha=0.9, marker=markers[label])\n",
    "    plt.scatter(x=center_x_y[0], y=center_x_y[1], s=70, color='k', edgecolor='k', \n",
    "                marker='$%d$' % label)\n",
    "    \n",
    "plt.show()\n"
   ]
  },
  {
   "cell_type": "code",
   "execution_count": null,
   "metadata": {},
   "outputs": [],
   "source": [
    "print(clusterDF.groupby('target')['meanshift_label'].value_counts())"
   ]
  },
  {
   "cell_type": "code",
   "execution_count": null,
   "metadata": {},
   "outputs": [],
   "source": []
  }
 ],
 "metadata": {
  "kernelspec": {
   "display_name": "Python 3",
   "language": "python",
   "name": "python3"
  },
  "language_info": {
   "codemirror_mode": {
    "name": "ipython",
    "version": 3
   },
   "file_extension": ".py",
   "mimetype": "text/x-python",
   "name": "python",
   "nbconvert_exporter": "python",
   "pygments_lexer": "ipython3",
   "version": "3.7.7"
  }
 },
 "nbformat": 4,
 "nbformat_minor": 4
}
