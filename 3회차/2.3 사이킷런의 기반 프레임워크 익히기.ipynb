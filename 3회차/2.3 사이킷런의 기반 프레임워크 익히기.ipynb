{
 "cells": [
  {
   "cell_type": "markdown",
   "metadata": {},
   "source": [
    "2.3 사이킷런 기반의 프레임워크 익히기\n",
    "=====\n",
    "\n",
    "## 2.3.1 Estimator 이해 및 fit(), predict() 메서드\n",
    "\n",
    "사이킷런은 API 일관성과 개발 편의성을 제공하기 위한 노력이 엿보이는 패키지.\n",
    "\n",
    "사이킷런은 ML 모델 학습을 위하여 fit(), 학습 된 모델의 예측을 위해 predict() 메서드를 제공\n",
    "* 지도학습의 주요 두 축인 분류(Classification)와 회귀(Regression)의 다양한 알고리즘을 구현한 모든 사이킷런 클래스는 fit()과 predict()만을 이용해 간단하게 학습/예측 결과를 반환\n",
    "* 분류 알고리즘을 구현한 클래스를 Classifier, 회귀 알고리즘을 구현한 클래스를 Regressor로 지칭\n",
    "* 위의 Classifier와 Regressor를 합쳐서 **Estimator 클래스**\n",
    "* 즉, 지도학습의 모든 알고리즘 구현한 클래스를 통칭하여 Estimator라고 지칭\n",
    "\n",
    "\n",
    "![estimator](https://img1.daumcdn.net/thumb/R1280x0/?scode=mtistory2&fname=https%3A%2F%2Fk.kakaocdn.net%2Fdn%2FtHxOf%2FbtqCbUw5TZM%2F9pkKG6suDzXZK2qwPHpEA1%2Fimg.png)\n",
    "\n",
    "사이킷런에서 비지도학습인 차원 축소, 클러스터링, 피처 추출 등을 구현한 클래스는 대부분 fit()과 transform()을 적용\n",
    "\n",
    "비지도학습/피처 추출에서의 fit()은 지도학습의 fit()과 같이 학습을 의미하는 것이 아니라 입력 데이터의 형태에 맞춰 데이터를 변환하기 위한 사전 구조를 맞추는 작업\n",
    "\n",
    "비지도학습에서 fit()과 transform()을 하나로 결합한 fit_transform()도 함께 제공.\n",
    "\n",
    "## 2.3.2 사이킷런의 주요 모듈\n",
    "\n",
    "|**분류**|**모듈명**|**설명**|\n",
    "|:---|:---|:---|\n",
    "|`예제 데이터`|sklearn.datasets|사이킷런에 내장되어 예제로 제공하는 데이터 세트|\n",
    "||sklearn.preprocessing|데이터 전처리에 필요한 다양한 가공 기능 제공(문자열을 숫자형 코드 값으로 인코딩, 정규화, 스케일링 등)|\n",
    "|`피처 처리`|sklearn.feature_selection|알고리즘에 큰 영향을 미치는 피처를 우선순위대로 셀렉션 작업을 수행하는 다양한 기능 제공|\n",
    "||sklearn.feature_extraction|텍스트 데이터나 이미지 데이터의 벡터화된 피처를 추출하는데 사용됨.<br>예를 들어 텍스트 데이터에서 Count Vectorizer나 Tf-Idf Vectorizer 등을 생성하는 기능 제공.<br>텍스트 데이터의 피처 추출은 sklearn.feature_extraction.text 모듈에, 이미지 데이터의 피처 추출은 sklearn.feature_extraction.image 모듈에 지원 API가 있음|\n",
    "|`피처 처리 & 차원 축소`|sklearn.decomposition|차원 축소와 관련한 알고리즘을 지원하는 모듈이다. PCA, NMF, Truncated SVD 등을 통해 차원 축소 기능을 수행할 수 있다.|\n",
    "|`데이터 분리, 검증 & 파라미터 튜닝`|sklearn.model_selection|교차 검증을 위한 학습용/테스트용 분리, 그리드 서치(Grid Search)로 최적 파라미터 추출 등의 API 제공|\n",
    "|`평가`|sklearn.metrics|분류, 회귀, 클러스터링, 페어와이즈(Pairwise)에 대한 다양한 성능 측정 방법 제공<br>Accuracy, Precision, Recall, ROC-AUC, RMSE 등 제공|\n",
    "||sklearn.ensemble|앙상블 알고리즘 제공<br>랜덤 포레스트, 에이다 부스트, 그래디언트 부스팅 등을 제공|\n",
    "||sklearn.linear_model|주로 선형 회귀, 릿지(Ridge), 라쏘(Lasso) 및 로지스틱 회귀 등 회귀 관련 알고리즘을 지원. 또한 SGD(Stochastic Gradient Desccent) 관련 알고리즘도 제공|\n",
    "||sklearn.naïve_bayes|나이브 베이즈 알고리즘 제공. 가우시안 NB. 다항 분포 NB 등|\n",
    "|`ML 알고리즘`|sklearn.neighbors|앙상블 알고리즘 제공<br>랜덤 포레스트, 에이다 부스트, 그래디언트 부스팅 등을 제공|\n",
    "||sklearn.svm|서포트 벡터 머신 알고리즘 제공|\n",
    "||sklearn.tree|의사 결정 트리 알고리즘 제공|\n",
    "||sklearn.cluster|비지도 클러스터링 알고리즘 제공<br>(K-평균, 계층형, DBSCAN 등)|\n",
    "|`유틸리티`|sklearn.pipeline|피처 처리 등의 변환과 ML 알고리즘 학습, 예측 등을 함께 묶어서 실행할 수 있는 유틸리티 제공|\n",
    "\n",
    "\n",
    "머신러닝 모델을 구축하는 주요 프로세스는 피처의 가공, 변경, 추출을 수행하는 피처 처리(feature processing), ML 알고리즘 학습/예측 수행, 그리고 모델 평가의 단계를 반복적으로 수행하는 것\n",
    "\n",
    "사이킷런은 이런 일련의 과정을 편리하고 다양하며 유연하게 지원함."
   ]
  },
  {
   "cell_type": "markdown",
   "metadata": {},
   "source": [
    "## 2.3.3 내장 된 예제 데이터 세트\n",
    "\n",
    "datasets 모듈에는 외부 웹사이트에서 데이터 세트를 내려받을 필요 없이 예제로 활용할 수 있는 좋은 데이터 세트가 내장 되어있음.\n",
    "* datasets.load_boston() : 보스턴의 집 피처들과 가격 (회귀)\n",
    "* datasets.load_breast_cancer() : 위스콘신 유방암 피처들과 악성/음성 레이블 데이터 (분류)\n",
    "* datasets.load_diabetes() : 당뇨 데이터 세트 (회귀)\n",
    "* datasets.load_digits() : 0-9까지 숫자 이미지 픽셀 데이터 (분류)\n",
    "* datasets.load_iris() : 붓꽃에 대한 피처를 가진 데이터 (분류)\n",
    "\n",
    "fetch 명령은 데이터 크기가 커서 패키지 내장이 아닌 인터넷에서 다운로드 받아 사용할 수 있는 데이터들. 해당 명령은 인터넷에 연결 돼 있지 않으면 사용할 수 없음.\n",
    "\n",
    "### Datasets의 구조\n",
    "\n",
    "사이킷런에 내장된 데이터 세트는 일반적으로 **딕셔너리 형태**로 돼 있음.\n",
    "\n",
    "Key는 보통 data, target, target_name, feature_names, DESCR로 구성 \n",
    "\n",
    "* data는 피처의 데이터 세트를 가리킵니다. (넘파이 배열)\n",
    "* target은 분류 시 레이블 값, 회귀일 때는 숫자 결과값 데이터 세트 (넘파이 배열)\n",
    "* target_names는 개별 레이블의 이름 (넙파이 배열 or 리스트)\n",
    "* feature_names는 피처의 이름 (넙파이 배열 or 리스트)\n",
    "* DESCR은 데이터 세트에 대한 설명과 각 피처의 설명 (string)"
   ]
  },
  {
   "cell_type": "code",
   "execution_count": null,
   "metadata": {},
   "outputs": [],
   "source": [
    "from sklearn.datasets import load_iris\n",
    "\n",
    "iris_data = load_iris()\n",
    "print(type(iris_data))\n"
   ]
  },
  {
   "cell_type": "markdown",
   "metadata": {},
   "source": [
    "Bunch 클래스는 파이썬의 딕셔너리 자료형과 유사 (일반적으로 key-value 형태의 JSON과 유사)"
   ]
  },
  {
   "cell_type": "code",
   "execution_count": null,
   "metadata": {},
   "outputs": [],
   "source": [
    "keys = iris_data.keys()\n",
    "print('붓꽃 데이터 세트의 키들:', keys)"
   ]
  },
  {
   "cell_type": "code",
   "execution_count": null,
   "metadata": {},
   "outputs": [],
   "source": [
    "print('\\n feature_names 의 type:',type(iris_data.feature_names))\n",
    "print(' feature_names 의 shape:',len(iris_data.feature_names))\n",
    "print(iris_data.feature_names)\n",
    "\n",
    "print('\\n target_names 의 type:',type(iris_data.target_names))\n",
    "print(' feature_names 의 shape:',len(iris_data.target_names))\n",
    "print(iris_data.target_names)\n",
    "\n",
    "print('\\n data 의 type:',type(iris_data.data))\n",
    "print(' data 의 shape:',iris_data.data.shape)\n",
    "print(iris_data['data'])\n",
    "\n",
    "print('\\n target 의 type:',type(iris_data.target))\n",
    "print('target 의 shape:',iris_data.target.shape)\n",
    "print(iris_data.target)\n",
    "\n",
    "print('DESCR : ', iris_data.DESCR)\n"
   ]
  },
  {
   "cell_type": "markdown",
   "metadata": {},
   "source": [
    "![iris](https://tensorflowkorea.files.wordpress.com/2019/09/p038.jpg)"
   ]
  },
  {
   "cell_type": "code",
   "execution_count": null,
   "metadata": {},
   "outputs": [],
   "source": []
  }
 ],
 "metadata": {
  "kernelspec": {
   "display_name": "Python 3",
   "language": "python",
   "name": "python3"
  },
  "language_info": {
   "codemirror_mode": {
    "name": "ipython",
    "version": 3
   },
   "file_extension": ".py",
   "mimetype": "text/x-python",
   "name": "python",
   "nbconvert_exporter": "python",
   "pygments_lexer": "ipython3",
   "version": "3.7.7"
  }
 },
 "nbformat": 4,
 "nbformat_minor": 2
}
