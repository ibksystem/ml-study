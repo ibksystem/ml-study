{
 "cells": [
  {
   "cell_type": "markdown",
   "metadata": {},
   "source": [
    "<h1>넘파이 ndarray 개요</h1>"
   ]
  },
  {
   "cell_type": "code",
   "execution_count": 225,
   "metadata": {},
   "outputs": [],
   "source": [
    "import numpy as np"
   ]
  },
  {
   "cell_type": "code",
   "execution_count": 271,
   "metadata": {},
   "outputs": [
    {
     "name": "stdout",
     "output_type": "stream",
     "text": [
      "array1 type <class 'numpy.ndarray'>\n",
      "array1 array 형태 (3,)\n",
      "\n",
      "array2 type: <class 'numpy.ndarray'>\n",
      "array2 array 형태 (2, 3)\n",
      "\n",
      "array3 type: <class 'numpy.ndarray'>\n",
      "array3 array 형태 (1, 3)\n",
      "\n",
      "array1: 1차원, array2: 2차원, array3:  2차원\n"
     ]
    }
   ],
   "source": [
    "array1 = np.array([1,2,3])\n",
    "\n",
    "print('array1 type', type(array1))\n",
    "print('array1 array 형태', array1.shape)\n",
    "\n",
    "array2 = np.array([[1,2,3],\n",
    "                   [2,3,4]])\n",
    "print('\\narray2 type:', type(array2))\n",
    "print('array2 array 형태', array2.shape)\n",
    "\n",
    "array3 = np.array([[1,2,3]])\n",
    "print('\\narray3 type:', type(array3))\n",
    "print('array3 array 형태', array3.shape)\n",
    "\n",
    "print('\\narray1: {:0}차원, array2: {:1}차원, array3: {:2}차원'.format(array1.ndim, array2.ndim, array3.ndim))"
   ]
  },
  {
   "cell_type": "markdown",
   "metadata": {},
   "source": [
    "<h1>ndarray 의 데이터 타입</h1>"
   ]
  },
  {
   "cell_type": "code",
   "execution_count": 19,
   "metadata": {},
   "outputs": [
    {
     "name": "stdout",
     "output_type": "stream",
     "text": [
      "<class 'numpy.ndarray'>\n",
      "['1' '2' 'test'] <U21\n",
      "[1. 2. 3.] float64\n"
     ]
    }
   ],
   "source": [
    "list2 = [1,2,'test']\n",
    "array2 = np.array(list2)\n",
    "print(type(array2))\n",
    "print(array2, array2.dtype)\n",
    "\n",
    "list3 = [1,2,3.0]\n",
    "array3 = np.array(list3)\n",
    "print(array3, array3.dtype)"
   ]
  },
  {
   "cell_type": "code",
   "execution_count": 23,
   "metadata": {},
   "outputs": [
    {
     "name": "stdout",
     "output_type": "stream",
     "text": [
      "[1. 2. 3.] float64\n",
      "[1 2 3] int32\n",
      "[1 2 3] int32\n"
     ]
    }
   ],
   "source": [
    "array_int = np.array([1,2,3])\n",
    "array_float = array_int.astype('float64')\n",
    "print(array_float, array_float.dtype)\n",
    "\n",
    "array_int1 = array_float.astype('int32')\n",
    "print(array_int1, array_int1.dtype)\n",
    "\n",
    "array_float1 = np.array([1.1, 2.1, 3.1])\n",
    "array_int2 = array_float1.astype('int32')\n",
    "print(array_int2, array_int2.dtype)"
   ]
  },
  {
   "cell_type": "markdown",
   "metadata": {},
   "source": [
    "<h1>ndarray 편리하게 생성하기</h1>"
   ]
  },
  {
   "cell_type": "code",
   "execution_count": 280,
   "metadata": {
    "scrolled": true
   },
   "outputs": [
    {
     "name": "stdout",
     "output_type": "stream",
     "text": [
      "[0 1 2 3 4 5 6 7 8 9]\n",
      "int64 (10,)\n"
     ]
    }
   ],
   "source": [
    "sequence_array = np.arange(10)\n",
    "print(sequence_array)\n",
    "print(sequence_array.dtype, sequence_array.shape)"
   ]
  },
  {
   "cell_type": "code",
   "execution_count": 279,
   "metadata": {},
   "outputs": [
    {
     "name": "stdout",
     "output_type": "stream",
     "text": [
      "[[0 0]\n",
      " [0 0]\n",
      " [0 0]]\n",
      "int32 (3, 2)\n"
     ]
    }
   ],
   "source": [
    "zero_array = np.zeros((3,2), dtype='int32')\n",
    "print(zero_array)\n",
    "print(zero_array.dtype, zero_array.shape)"
   ]
  },
  {
   "cell_type": "code",
   "execution_count": 35,
   "metadata": {},
   "outputs": [
    {
     "name": "stdout",
     "output_type": "stream",
     "text": [
      "[[1. 1.]\n",
      " [1. 1.]\n",
      " [1. 1.]]\n",
      "float64 (3, 2)\n"
     ]
    }
   ],
   "source": [
    "one_array = np.ones((3,2))\n",
    "print(one_array)\n",
    "print(one_array.dtype, one_array.shape)"
   ]
  },
  {
   "cell_type": "code",
   "execution_count": 282,
   "metadata": {},
   "outputs": [],
   "source": [
    "# rg = np.random.default_rng(1)\n",
    "# rg\n",
    "\n",
    "# a = rg.random((2,3))\n",
    "# a"
   ]
  },
  {
   "cell_type": "markdown",
   "metadata": {},
   "source": [
    "<h1>ndarray 의 차원과 크기를 변경하는 reshape()</h1>"
   ]
  },
  {
   "cell_type": "code",
   "execution_count": 284,
   "metadata": {},
   "outputs": [
    {
     "name": "stdout",
     "output_type": "stream",
     "text": [
      "array1:\n",
      " [0 1 2 3 4 5 6 7 8 9]\n",
      "\n",
      " array2:\n",
      " [[0 1 2 3 4]\n",
      " [5 6 7 8 9]]\n",
      "\n",
      " array3:\n",
      " [[0 1]\n",
      " [2 3]\n",
      " [4 5]\n",
      " [6 7]\n",
      " [8 9]]\n"
     ]
    }
   ],
   "source": [
    "array1 = np.arange(10)\n",
    "print('array1:\\n', array1)\n",
    "\n",
    "array2 = array1.reshape(2,5)\n",
    "print('\\n array2:\\n', array2)\n",
    "\n",
    "array3 = array1.reshape(5,2)\n",
    "print('\\n array3:\\n', array3)"
   ]
  },
  {
   "cell_type": "code",
   "execution_count": 227,
   "metadata": {},
   "outputs": [
    {
     "name": "stdout",
     "output_type": "stream",
     "text": [
      "[0 1 2 3 4 5 6 7 8 9]\n",
      "\n",
      " array2 shape: (2, 5)\n",
      "\n",
      " array4 shape: (5, 2)\n"
     ]
    }
   ],
   "source": [
    "array1 = np.arange(10)\n",
    "print(array1)\n",
    "\n",
    "array2 = array1.reshape(-1,5)\n",
    "print('\\n array2 shape:', array2.shape)\n",
    "\n",
    "array3 = array1.reshape(5,-1)\n",
    "print('\\n array4 shape:', array3.shape)"
   ]
  },
  {
   "cell_type": "code",
   "execution_count": 288,
   "metadata": {},
   "outputs": [
    {
     "name": "stdout",
     "output_type": "stream",
     "text": [
      "[0 1 2 3 4 5 6 7]\n",
      "\n",
      "array3d:\n",
      " [[[0, 1], [2, 3]], [[4, 5], [6, 7]]]\n",
      "\n",
      "array5:\n",
      " [[0], [1], [2], [3], [4], [5], [6], [7]]\n",
      "array5 shape (8, 1)\n",
      "\n",
      "array6:\n",
      " [[0], [1], [2], [3], [4], [5], [6], [7]]\n",
      "array6 shape (8, 1)\n"
     ]
    }
   ],
   "source": [
    "array1 = np.arange(8)\n",
    "print(array1)\n",
    "\n",
    "array3d = array1.reshape((2,2,2))\n",
    "print('\\narray3d:\\n', array3d.tolist())\n",
    "\n",
    "#3차원 ndarray를 2차원 ndarray로 변환\n",
    "array5 = array3d.reshape(-1,1)\n",
    "print('\\narray5:\\n', array5.tolist())\n",
    "print('array5 shape', array5.shape)\n",
    "\n",
    "#1차원 ndarray를 2차원 ndarray로 변환\n",
    "array6 = array1.reshape(-1,1)\n",
    "print('\\narray6:\\n', array6.tolist())\n",
    "print('array6 shape', array6.shape)"
   ]
  },
  {
   "cell_type": "markdown",
   "metadata": {
    "slideshow": {
     "slide_type": "-"
    }
   },
   "source": [
    "<h1>넘파이의 ndarray 의 데이터  세트 선택하기</h1>"
   ]
  },
  {
   "cell_type": "code",
   "execution_count": 292,
   "metadata": {
    "slideshow": {
     "slide_type": "-"
    }
   },
   "outputs": [
    {
     "name": "stdout",
     "output_type": "stream",
     "text": [
      "array1: [1 2 3 4 5 6 7 8 9]\n",
      "value: 3\n",
      "<class 'numpy.int64'>\n",
      "맨 뒤의 값: 9 맨 뒤에서 두 번째 값: 8\n"
     ]
    }
   ],
   "source": [
    "#1부터 9까지의 1차원 ndarray 생성\n",
    "array1 = np.arange(start=1, stop=10)\n",
    "print('array1:', array1)\n",
    "\n",
    "#index는 0부터 시작하므로 array1[2]는 3번째 index 위치의 데이터값 의미\n",
    "value = array1[2]\n",
    "print('value:', value)\n",
    "print(type(value))\n",
    "\n",
    "print('맨 뒤의 값:', array1[-1], '맨 뒤에서 두 번째 값:', array1[-2])"
   ]
  },
  {
   "cell_type": "code",
   "execution_count": 67,
   "metadata": {
    "slideshow": {
     "slide_type": "subslide"
    }
   },
   "outputs": [
    {
     "name": "stdout",
     "output_type": "stream",
     "text": [
      "array1: [9 2 3 4 5 6 7 8 0]\n"
     ]
    }
   ],
   "source": [
    "array1[0] = 9\n",
    "array1[8] = 0\n",
    "print('array1:', array1)"
   ]
  },
  {
   "cell_type": "code",
   "execution_count": 83,
   "metadata": {
    "slideshow": {
     "slide_type": "subslide"
    }
   },
   "outputs": [
    {
     "name": "stdout",
     "output_type": "stream",
     "text": [
      "[[1 2 3]\n",
      " [4 5 6]\n",
      " [7 8 9]]\n",
      "\n",
      " (row=0, col=0) index 가리키는 값 1\n",
      "\n",
      " (row=0, col=1) index 가리키는 값 2\n",
      "\n",
      " (row=1, col=0) index 가리키는 값 4\n",
      "\n",
      " (row=2, col=2) index 가리키는 값 9\n"
     ]
    }
   ],
   "source": [
    "#다차원 ndarray에서 단일 값 추출\n",
    "array1d = np.arange(start=1, stop=10)\n",
    "array2d = array1d.reshape(3,3)\n",
    "print(array2d)\n",
    "\n",
    "print('\\n (row=0, col=0) index 가리키는 값', array2d[0,0])\n",
    "print('\\n (row=0, col=1) index 가리키는 값', array2d[0,1])\n",
    "print('\\n (row=1, col=0) index 가리키는 값', array2d[1,0])\n",
    "print('\\n (row=2, col=2) index 가리키는 값', array2d[2,2])"
   ]
  },
  {
   "cell_type": "markdown",
   "metadata": {},
   "source": [
    "<h2>Slicing</h2>"
   ]
  },
  {
   "cell_type": "code",
   "execution_count": 299,
   "metadata": {
    "scrolled": true
   },
   "outputs": [
    {
     "name": "stdout",
     "output_type": "stream",
     "text": [
      "[1 2 3 4 5 6 7 8 9]\n",
      "[1 2 3]\n",
      "<class 'numpy.ndarray'>\n"
     ]
    }
   ],
   "source": [
    "array1 = np.arange(start=1, stop=10)\n",
    "print(array1)\n",
    "array3 = array1[0:3]\n",
    "print(array3)\n",
    "print(type(array3))"
   ]
  },
  {
   "cell_type": "code",
   "execution_count": 88,
   "metadata": {},
   "outputs": [
    {
     "name": "stdout",
     "output_type": "stream",
     "text": [
      "[1 2 3]\n",
      "[4 5 6 7 8 9]\n",
      "[1 2 3 4 5 6 7 8 9]\n"
     ]
    }
   ],
   "source": [
    "array1 = np.arange(start=1, stop=10)\n",
    "array4 = array1[:3]\n",
    "print(array4)\n",
    "\n",
    "array5 = array1[3:]\n",
    "print(array5)\n",
    "\n",
    "array6 = array1[:]\n",
    "print(array6)"
   ]
  },
  {
   "cell_type": "markdown",
   "metadata": {},
   "source": [
    "<h3>2차원 배열에서의 Slicing</h3>"
   ]
  },
  {
   "cell_type": "code",
   "execution_count": 293,
   "metadata": {
    "scrolled": false
   },
   "outputs": [
    {
     "name": "stdout",
     "output_type": "stream",
     "text": [
      "array3d:\n",
      " [[1 2 3]\n",
      " [4 5 6]\n",
      " [7 8 9]]\n",
      "\n",
      "array2d[0:2, 0:2] \n",
      " [[1 2]\n",
      " [4 5]]\n",
      "\n",
      "array2d[1:3, 0:3] \n",
      " [[4 5 6]\n",
      " [7 8 9]]\n",
      "\n",
      "array2d[1:3, :] \n",
      " [[4 5 6]\n",
      " [7 8 9]]\n",
      "\n",
      "array2d[:, :] \n",
      " [[1 2 3]\n",
      " [4 5 6]\n",
      " [7 8 9]]\n",
      "\n",
      "array2d[:2, 1:] \n",
      " [[2 3]\n",
      " [5 6]]\n",
      "\n",
      "array2d[:2, 0] \n",
      " [1 4]\n"
     ]
    }
   ],
   "source": [
    "array1d = np.arange(start=1, stop=10)\n",
    "array2d = array1d.reshape(3,3)\n",
    "print('array3d:\\n', array2d)\n",
    "\n",
    "print('\\narray2d[0:2, 0:2] \\n', array2d[0:2, 0:2])\n",
    "print('\\narray2d[1:3, 0:3] \\n', array2d[1:3, 0:3])\n",
    "print('\\narray2d[1:3, :] \\n', array2d[1:3, :])\n",
    "print('\\narray2d[:, :] \\n', array2d[:, :])\n",
    "print('\\narray2d[:2, 1:] \\n', array2d[:2, 1:])\n",
    "print('\\narray2d[:2, 0] \\n', array2d[:2, 0])"
   ]
  },
  {
   "cell_type": "code",
   "execution_count": 103,
   "metadata": {},
   "outputs": [
    {
     "name": "stdout",
     "output_type": "stream",
     "text": [
      "[1 2 3]\n",
      "[4 5 6]\n",
      "array2d[0].shape:  (3,) \n",
      "array2d[1].shape:  (3,)\n"
     ]
    }
   ],
   "source": [
    "#2차원 ndarray 에서 뒤에 오는 인덱스를 없애면 1차원 ndarray 반환\n",
    "print(array2d[0])\n",
    "print(array2d[1])\n",
    "print('array2d[0].shape: ', array2d[0].shape, '\\narray2d[1].shape: ', array2d[1].shape)"
   ]
  },
  {
   "cell_type": "markdown",
   "metadata": {},
   "source": [
    "### Fancy Indexing"
   ]
  },
  {
   "cell_type": "code",
   "execution_count": 241,
   "metadata": {
    "scrolled": true
   },
   "outputs": [
    {
     "name": "stdout",
     "output_type": "stream",
     "text": [
      "[[1 2 3]\n",
      " [4 5 6]\n",
      " [7 8 9]] \n",
      "\n",
      "array2d[[0,1], 2] => [3, 6]\n",
      "array2d[[0,1], 0:2] => [[1, 2], [4, 5]]\n",
      "array2d[[0,1]] => [[1, 2, 3], [4, 5, 6]]\n"
     ]
    }
   ],
   "source": [
    "array1d = np.arange(start=1, stop=10)\n",
    "array2d = array1d.reshape(3,3)\n",
    "print(array2d, '\\n')\n",
    "\n",
    "array3 = array2d[[0,1], 2]\n",
    "print('array2d[[0,1], 2] =>', array3.tolist())\n",
    "\n",
    "array4 = array2d[[0,1], 0:2]\n",
    "print('array2d[[0,1], 0:2] =>', array4.tolist())\n",
    "\n",
    "array5 = array2d[[0,1]]\n",
    "print('array2d[[0,1]] =>', array5.tolist())"
   ]
  },
  {
   "cell_type": "code",
   "execution_count": 298,
   "metadata": {},
   "outputs": [
    {
     "name": "stdout",
     "output_type": "stream",
     "text": [
      "array2d[[0,1], [0,2]] => [4, 6]\n"
     ]
    }
   ],
   "source": [
    "array6 = array2d[[1,1] , [0,2]]\n",
    "print('array2d[[0,1], [0,2]] =>', array6.tolist())\n"
   ]
  },
  {
   "cell_type": "markdown",
   "metadata": {},
   "source": [
    "### Boolean Indexing"
   ]
  },
  {
   "cell_type": "code",
   "execution_count": 117,
   "metadata": {},
   "outputs": [
    {
     "name": "stdout",
     "output_type": "stream",
     "text": [
      "array1d > 5 인덱싱 결과 [6 7 8 9]\n"
     ]
    }
   ],
   "source": [
    "#조건 필터링 + 검색\n",
    "\n",
    "array1d = np.arange(start=1, stop=10)\n",
    "array3 = array1d[array1d > 5]\n",
    "print('array1d > 5 인덱싱 결과', array3)"
   ]
  },
  {
   "cell_type": "code",
   "execution_count": 118,
   "metadata": {},
   "outputs": [
    {
     "name": "stdout",
     "output_type": "stream",
     "text": [
      "boolean 인덱스로 필터링 결과: [6 7 8 9]\n"
     ]
    }
   ],
   "source": [
    "boolean_indexes = np.array([False,False,False,False,False,True,True,True,True])\n",
    "array3 = array1d[boolean_indexes]\n",
    "print('boolean 인덱스로 필터링 결과:', array3)"
   ]
  },
  {
   "cell_type": "code",
   "execution_count": 120,
   "metadata": {},
   "outputs": [
    {
     "name": "stdout",
     "output_type": "stream",
     "text": [
      "일반 인덱스로 필터링 결과:  [6 7 8 9]\n"
     ]
    }
   ],
   "source": [
    "indexes = np.array([5,6,7,8])\n",
    "array4 = array1d[indexes]\n",
    "print('일반 인덱스로 필터링 결과: ', array4)"
   ]
  },
  {
   "cell_type": "code",
   "execution_count": 270,
   "metadata": {},
   "outputs": [
    {
     "name": "stdout",
     "output_type": "stream",
     "text": [
      "[6 7 8 9]\n",
      "[6 7]\n"
     ]
    }
   ],
   "source": [
    "#more\n",
    "five_up = (array1d > 5)\n",
    "print(array1d[five_up])\n",
    "\n",
    "c = array1d[(array1d > 5) & (array1d < 8)]\n",
    "print(c)"
   ]
  },
  {
   "cell_type": "markdown",
   "metadata": {},
   "source": [
    "# 행렬의 정렬 - sort() 와 argsort()"
   ]
  },
  {
   "cell_type": "markdown",
   "metadata": {},
   "source": [
    "### sort()"
   ]
  },
  {
   "cell_type": "code",
   "execution_count": 132,
   "metadata": {},
   "outputs": [
    {
     "name": "stdout",
     "output_type": "stream",
     "text": [
      "원본 행렬: [3 1 9 5]\n",
      "np.sort() 호출 후 반환된 정렬 행렬: [1 3 5 9]\n",
      "np.sort() 호출 후 원본 행렬: [3 1 9 5]\n",
      "\n",
      "org_array.sort() 호출 후 반환된 정렬 행렬: None\n",
      "org_array.sort() 호출 후 원본 행렬: [1 3 5 9]\n",
      "\n",
      "내림차순으로 정렬: [9 5 3 1]\n"
     ]
    }
   ],
   "source": [
    "org_array = np.array([3,1,9,5])\n",
    "print('원본 행렬:', org_array)\n",
    "\n",
    "#np.sort() 로 정렬\n",
    "sort_array1 = np.sort(org_array)\n",
    "\n",
    "print('np.sort() 호출 후 반환된 정렬 행렬:', sort_array1)\n",
    "print('np.sort() 호출 후 원본 행렬:', org_array)\n",
    "\n",
    "\n",
    "#ndarray.sort() 로 정렬\n",
    "sort_array2 = org_array.sort()\n",
    "\n",
    "print('\\norg_array.sort() 호출 후 반환된 정렬 행렬:', sort_array2)\n",
    "print('org_array.sort() 호출 후 원본 행렬:', org_array)\n",
    "\n",
    "#내림차순 정렬\n",
    "sort_array1_desc = np.sort(org_array)[::-1]\n",
    "print('\\n내림차순으로 정렬:', sort_array1_desc)"
   ]
  },
  {
   "cell_type": "code",
   "execution_count": 139,
   "metadata": {},
   "outputs": [
    {
     "name": "stdout",
     "output_type": "stream",
     "text": [
      "array2d:\n",
      " [[ 8 12]\n",
      " [ 7  1]]\n",
      "\n",
      "row 방향으로 정렬:\n",
      " [[ 7  1]\n",
      " [ 8 12]]\n",
      "\n",
      "column 방향으로 정렬:\n",
      " [[ 8 12]\n",
      " [ 1  7]]\n"
     ]
    }
   ],
   "source": [
    "array2d = np.array([[8,12], [7,1]])\n",
    "print('array2d:\\n', array2d)\n",
    "\n",
    "sort_array2d_axis0 = np.sort(array2d, axis=0)\n",
    "print('\\nrow 방향으로 정렬:\\n', sort_array2d_axis0)\n",
    "\n",
    "sort_array2d_axis1 = np.sort(array2d, axis=1)\n",
    "print('\\ncolumn 방향으로 정렬:\\n', sort_array2d_axis1)"
   ]
  },
  {
   "cell_type": "markdown",
   "metadata": {},
   "source": [
    "### 정렬된 행렬의 인덱스 반환 argsort()"
   ]
  },
  {
   "cell_type": "code",
   "execution_count": 209,
   "metadata": {},
   "outputs": [
    {
     "name": "stdout",
     "output_type": "stream",
     "text": [
      "<class 'numpy.ndarray'>\n",
      "오름차순 행렬 정렬 시 원본 행렬의 인덱스: [1 0 3 2]\n",
      "\n",
      "내림차순 행렬 정렬 시 원본 행렬의 인덱스: [2 3 0 1]\n"
     ]
    }
   ],
   "source": [
    "#오름차순\n",
    "org_array = np.array([3,1,9,5])\n",
    "sort_indices = np.argsort(org_array)\n",
    "print(type(sort_indices))\n",
    "print('오름차순 행렬 정렬 시 원본 행렬의 인덱스:',sort_indices)\n",
    "\n",
    "#내림차순\n",
    "org_array = np.array([3,1,9,5])\n",
    "sort_indices = np.argsort(org_array)[::-1]\n",
    "print('\\n내림차순 행렬 정렬 시 원본 행렬의 인덱스:',sort_indices)"
   ]
  },
  {
   "cell_type": "code",
   "execution_count": 215,
   "metadata": {
    "scrolled": true
   },
   "outputs": [
    {
     "name": "stdout",
     "output_type": "stream",
     "text": [
      "\n",
      "점수 내림차순 [100  88  80  70  30]\n",
      "\n",
      "내림차순 정렬한 점수의 index [4 1 3 2 0]\n",
      "\n",
      "시험 성적 결과 - 국어 성적 내림차순\n",
      "[100  88  80  70  30]\n",
      "['학생E' '학생B' '학생D' '학생C' '학생A']\n"
     ]
    }
   ],
   "source": [
    "#argsort 사용 예시\n",
    "\n",
    "#이름\n",
    "names = np.array(['학생A', '학생B', '학생C', '학생D', '학생E'])\n",
    "\n",
    "#점수\n",
    "score = np.array([30,88,70,80,100])\n",
    "\n",
    "#점수 내림차순 정렬\n",
    "score_sort = np.sort(score)[::-1]\n",
    "print('\\n점수 내림차순', score_sort)\n",
    "\n",
    "#내림차순 정렬한 점수의 index\n",
    "score_argsort = np.argsort(score)[::-1]\n",
    "print('\\n내림차순 정렬한 점수의 index', score_argsort)\n",
    "\n",
    "print('\\n시험 성적 결과 - 국어 성적 내림차순')\n",
    "print(score[score_argsort])\n",
    "print(names[score_argsort])"
   ]
  },
  {
   "cell_type": "markdown",
   "metadata": {},
   "source": [
    "# 선형대수 연산 - 행렬 내적과 전치 행렬 구하기"
   ]
  },
  {
   "cell_type": "markdown",
   "metadata": {},
   "source": [
    "### 행렬 내적 (행렬 곱)"
   ]
  },
  {
   "cell_type": "code",
   "execution_count": 205,
   "metadata": {},
   "outputs": [
    {
     "name": "stdout",
     "output_type": "stream",
     "text": [
      "행렬 내적 결과:\n",
      " [[ 58  64]\n",
      " [139 154]]\n"
     ]
    }
   ],
   "source": [
    "#조건 : 왼쪽 행렬의 열 개수 = 오른쪽 행렬의 행 개수\n",
    "\n",
    "A = np.array([[1,2,3],\n",
    "              [4,5,6]])\n",
    "\n",
    "B = np.array([[7,8],\n",
    "              [9,10],\n",
    "              [11,12]])\n",
    "\n",
    "dot_product = np.dot(A,B)\n",
    "print('행렬 내적 결과:\\n', dot_product)"
   ]
  },
  {
   "cell_type": "markdown",
   "metadata": {},
   "source": [
    "### 전치 행렬"
   ]
  },
  {
   "cell_type": "code",
   "execution_count": 208,
   "metadata": {},
   "outputs": [
    {
     "name": "stdout",
     "output_type": "stream",
     "text": [
      "A의 전치 행렬\n",
      " [[1 3]\n",
      " [2 4]]\n"
     ]
    }
   ],
   "source": [
    "A = np.array([[1,2],\n",
    "              [3,4]])\n",
    "\n",
    "transpose_mat = np.transpose(A)\n",
    "print('A의 전치 행렬\\n', transpose_mat)"
   ]
  }
 ],
 "metadata": {
  "kernelspec": {
   "display_name": "Python 3",
   "language": "python",
   "name": "python3"
  },
  "language_info": {
   "codemirror_mode": {
    "name": "ipython",
    "version": 3
   },
   "file_extension": ".py",
   "mimetype": "text/x-python",
   "name": "python",
   "nbconvert_exporter": "python",
   "pygments_lexer": "ipython3",
   "version": "3.7.7"
  }
 },
 "nbformat": 4,
 "nbformat_minor": 4
}
