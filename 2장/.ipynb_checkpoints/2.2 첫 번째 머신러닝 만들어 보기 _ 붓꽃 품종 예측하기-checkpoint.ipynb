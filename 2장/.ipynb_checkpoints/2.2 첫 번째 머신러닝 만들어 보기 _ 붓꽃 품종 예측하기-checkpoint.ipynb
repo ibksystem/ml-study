{
 "cells": [
  {
   "cell_type": "markdown",
   "metadata": {},
   "source": [
    "2.2. 첫 번째 머신러닝 만들어 보기 - 붓꽃 품종 예측하기\n",
    "=====\n",
    "\n",
    "## 2.2.1 사이킷런을 이용하여 붓꽃(Iris) 데이터 품종 예측하기\n",
    "\n",
    "사이킷런을 통해 첫 번째로 만들어볼 머신러닝 모델은 붓꽃 데이터 세트로 붓꽃의 품종을 분류(Classification)\n",
    "- 붓꽃 데이터 세트는 꽃잎의 길이/너비, 꽃받침의 길이/너비 피처(Feature)를 기반으로 꽃의 품종을 예측\n",
    "![iris](https://k.kakaocdn.net/dn/cmWZxP/btqzcYbNeIZ/5R0l5h1dMvHJm03zmWKgj1/img.png)\n",
    "\n",
    "### 분류(Classification)\n",
    "\n",
    "- 분류(Classification)는 대표적인 지도학습 방법 중 하나.\n",
    "- 지도학습은 학습을 위한 다양한 피처와 분류 결정값인 레이블(Label) 데이터로 모델을 학습한 뒤, 별도의 테스트 데이터 세트에서 미지의 레이블을 예측\n",
    "    * 즉, 지도학습은 명확한 정답이 주어진 데이터를 먼저 학습한 뒤 미지의 정답을 예측하는 방식\n",
    "    * 이 때 학습을 위해 주어진 데이터 세트를 **_학습 데이터 세트_** , 머신러닝 모델의 예측 성능을 평가하기 위해 별도로 주어진 데이터 세트를 **_테스트 데이터 세트_** 로 지칭\n",
    "    \n",
    "    \n",
    "## 2.2.2 사이킷런 사용\n",
    "\n",
    "사이킷런 패키지내의 모듈명은 sklearn으로 시작하는 명명규칙이 있음.\n",
    "\n",
    "* sklearn.datasets : 사이킷런에서 자체적으로 제공하는 데이터 세트를 생성\n",
    "* sklearn.tree : 트리 기반 ML 알고리즘을 구현한 클래스의 모임\n",
    "* sklearn.model_section : 학습 데이터와 검증 데이터, 예측 데이터로 데이터를 분리하거나 최적의 하이퍼 파라미터로 평가하기 위한 다양한 모듈의 모임\n",
    "    * 하이퍼 파라미터란 머신러닝 알고리즘별로 최적의 학습을 위해 직접 입력하는 파라미터, 머신러닝 알고리즘의 성능을 튜닝\n",
    "\n",
    "**붓꽃 데이터 세트를 생성하는 데는 load_iris()를 이용**\n",
    "\n",
    "**ML 알고리즘은 의사 결정 트리(Decision Tree) 알고리즘을 구현한 DecisionTreeClassifier를 적용**\n",
    "\n",
    "**데이터 세트를 학습 데이터와 테스트 데이터로 분리하는 데는 train_test_split() 함수를 사용**\n",
    "\n",
    "### 데이터 로드"
   ]
  },
  {
   "cell_type": "code",
   "execution_count": 2,
   "metadata": {},
   "outputs": [],
   "source": [
    "from sklearn.datasets import load_iris\n",
    "from sklearn.tree import DecisionTreeClassifier\n",
    "from sklearn.model_selection import train_test_split"
   ]
  },
  {
   "cell_type": "code",
   "execution_count": 3,
   "metadata": {},
   "outputs": [
    {
     "name": "stdout",
     "output_type": "stream",
     "text": [
      "iria data 크기: 150\n",
      "iris target값: [0 0 0 0 0 0 0 0 0 0 0 0 0 0 0 0 0 0 0 0 0 0 0 0 0 0 0 0 0 0 0 0 0 0 0 0 0\n",
      " 0 0 0 0 0 0 0 0 0 0 0 0 0 1 1 1 1 1 1 1 1 1 1 1 1 1 1 1 1 1 1 1 1 1 1 1 1\n",
      " 1 1 1 1 1 1 1 1 1 1 1 1 1 1 1 1 1 1 1 1 1 1 1 1 1 1 2 2 2 2 2 2 2 2 2 2 2\n",
      " 2 2 2 2 2 2 2 2 2 2 2 2 2 2 2 2 2 2 2 2 2 2 2 2 2 2 2 2 2 2 2 2 2 2 2 2 2\n",
      " 2 2]\n",
      "iris target명: ['setosa' 'versicolor' 'virginica']\n"
     ]
    },
    {
     "data": {
      "text/html": [
       "<div>\n",
       "<style scoped>\n",
       "    .dataframe tbody tr th:only-of-type {\n",
       "        vertical-align: middle;\n",
       "    }\n",
       "\n",
       "    .dataframe tbody tr th {\n",
       "        vertical-align: top;\n",
       "    }\n",
       "\n",
       "    .dataframe thead th {\n",
       "        text-align: right;\n",
       "    }\n",
       "</style>\n",
       "<table border=\"1\" class=\"dataframe\">\n",
       "  <thead>\n",
       "    <tr style=\"text-align: right;\">\n",
       "      <th></th>\n",
       "      <th>sepal length (cm)</th>\n",
       "      <th>sepal width (cm)</th>\n",
       "      <th>petal length (cm)</th>\n",
       "      <th>petal width (cm)</th>\n",
       "      <th>label</th>\n",
       "    </tr>\n",
       "  </thead>\n",
       "  <tbody>\n",
       "    <tr>\n",
       "      <th>0</th>\n",
       "      <td>5.1</td>\n",
       "      <td>3.5</td>\n",
       "      <td>1.4</td>\n",
       "      <td>0.2</td>\n",
       "      <td>0</td>\n",
       "    </tr>\n",
       "    <tr>\n",
       "      <th>1</th>\n",
       "      <td>4.9</td>\n",
       "      <td>3.0</td>\n",
       "      <td>1.4</td>\n",
       "      <td>0.2</td>\n",
       "      <td>0</td>\n",
       "    </tr>\n",
       "    <tr>\n",
       "      <th>2</th>\n",
       "      <td>4.7</td>\n",
       "      <td>3.2</td>\n",
       "      <td>1.3</td>\n",
       "      <td>0.2</td>\n",
       "      <td>0</td>\n",
       "    </tr>\n",
       "  </tbody>\n",
       "</table>\n",
       "</div>"
      ],
      "text/plain": [
       "   sepal length (cm)  sepal width (cm)  petal length (cm)  petal width (cm)  \\\n",
       "0                5.1               3.5                1.4               0.2   \n",
       "1                4.9               3.0                1.4               0.2   \n",
       "2                4.7               3.2                1.3               0.2   \n",
       "\n",
       "   label  \n",
       "0      0  \n",
       "1      0  \n",
       "2      0  "
      ]
     },
     "execution_count": 3,
     "metadata": {},
     "output_type": "execute_result"
    }
   ],
   "source": [
    "import pandas as pd\n",
    "\n",
    "# 붓꽃 데이터 세트를 로딩합니다. \n",
    "iris = load_iris()\n",
    "\n",
    "# iris.data는 Iris 데이터 세트에서 피처(feature)만으로 된 데이터를 numpy로 가지고 있습니다. \n",
    "iris_data = iris.data\n",
    "print('iria data 크기:', len(iris_data))\n",
    "\n",
    "# iris.target은 붓꽃 데이터 세트에서 레이블(결정 값) 데이터를 numpy로 가지고 있습니다. \n",
    "iris_label = iris.target\n",
    "print('iris target값:', iris_label)\n",
    "print('iris target명:', iris.target_names)\n",
    "\n",
    "# 붓꽃 데이터 세트를 자세히 보기 위해 DataFrame으로 변환합니다. \n",
    "iris_df = pd.DataFrame(data=iris_data, columns=iris.feature_names)\n",
    "iris_df['label'] = iris.target\n",
    "iris_df.head(3)"
   ]
  },
  {
   "cell_type": "markdown",
   "metadata": {},
   "source": [
    "* 제공 된 피처에는 sepal length, sepal width, peral length, peral width 총 네 가지 피처가 있음\n",
    "* 레이블은 0, 1, 2 세 가지 값으로 돼 있으며 0이 setosa, 1이 versicolor, 2가 virginica 품종을 의미\n",
    "\n",
    "### 데이터 분리\n",
    "\n",
    "학습 데이터로 학습 된 모델이 얼마나 뛰어난 성능을 가지는 지 평가하려면 테스트 데이터 세트가 반드시 필요하기 때문에 데이터를 분리작업이 필요함.\n",
    "\n",
    "사이킷런은 데이터 분리를 train_test_split() API에서 test_size 파라미터 입력 값의 비율로 쉽게 분리\n",
    "\n",
    "ex) test_size=0.2로 설정 시 전체 데이터 중 테스트 데이터가 20%, 학습 데이터가 80%로 분할 됨."
   ]
  },
  {
   "cell_type": "code",
   "execution_count": 5,
   "metadata": {},
   "outputs": [],
   "source": [
    "X_train, X_test, y_train, y_test = train_test_split(iris_data, iris_label, \n",
    "                                                    test_size=0.2, random_state=11)"
   ]
  },
  {
   "cell_type": "markdown",
   "metadata": {},
   "source": [
    "* train_test_split()의 첫 번째 파라미터인 iris_data는 피처 데이터 셋트\n",
    "* 두 번째 파라미터인 iris_label은 레이블(Label) 데이터 셋트\n",
    "* 마지막으로 random_state는 호출할 때마다 같은 학습/테스트 용 데이터 세트를 생성하기 위해 주어지는 난수 발생 값. 수행할 때마다 동일 데이터 세트로 분리하기 위해서는 random_state 값을 일정한 숫자 값으로 부여\n",
    "\n",
    "train_test_split() 결과 리턴으로 X_train은 학습용 데이터 피처 세트, X_test는 테스트 데이터 피처 세트, y_train은 학습용 레이블 데이터 세스, y_test는 테스트용 레이블 데이터 세트로 반환"
   ]
  },
  {
   "cell_type": "code",
   "execution_count": 6,
   "metadata": {},
   "outputs": [
    {
     "name": "stdout",
     "output_type": "stream",
     "text": [
      "X_train 값 :  [[5.1 3.5 1.4 0.2]\n",
      " [6.9 3.2 5.7 2.3]\n",
      " [7.7 2.8 6.7 2. ]\n",
      " [5.  3.3 1.4 0.2]\n",
      " [4.7 3.2 1.6 0.2]\n",
      " [7.7 2.6 6.9 2.3]\n",
      " [7.6 3.  6.6 2.1]\n",
      " [6.7 3.  5.  1.7]\n",
      " [5.5 3.5 1.3 0.2]\n",
      " [6.  2.7 5.1 1.6]\n",
      " [5.  2.  3.5 1. ]\n",
      " [7.9 3.8 6.4 2. ]\n",
      " [4.6 3.4 1.4 0.3]\n",
      " [6.9 3.1 4.9 1.5]\n",
      " [6.5 3.  5.8 2.2]\n",
      " [5.1 2.5 3.  1.1]\n",
      " [6.6 2.9 4.6 1.3]\n",
      " [5.  3.2 1.2 0.2]\n",
      " [7.4 2.8 6.1 1.9]\n",
      " [5.1 3.8 1.6 0.2]\n",
      " [6.8 3.2 5.9 2.3]\n",
      " [6.9 3.1 5.1 2.3]\n",
      " [5.9 3.  4.2 1.5]\n",
      " [4.9 2.5 4.5 1.7]\n",
      " [6.7 3.1 4.7 1.5]\n",
      " [4.4 3.2 1.3 0.2]\n",
      " [5.4 3.4 1.7 0.2]\n",
      " [6.5 2.8 4.6 1.5]\n",
      " [5.1 3.7 1.5 0.4]\n",
      " [5.  3.4 1.6 0.4]\n",
      " [6.1 2.6 5.6 1.4]\n",
      " [6.5 3.  5.5 1.8]\n",
      " [6.3 2.5 5.  1.9]\n",
      " [5.2 3.4 1.4 0.2]\n",
      " [5.  3.6 1.4 0.2]\n",
      " [5.4 3.4 1.5 0.4]\n",
      " [6.1 2.8 4.7 1.2]\n",
      " [5.1 3.4 1.5 0.2]\n",
      " [5.6 3.  4.1 1.3]\n",
      " [6.3 2.7 4.9 1.8]\n",
      " [7.1 3.  5.9 2.1]\n",
      " [5.5 2.6 4.4 1.2]\n",
      " [5.  2.3 3.3 1. ]\n",
      " [6.3 3.4 5.6 2.4]\n",
      " [5.8 2.7 5.1 1.9]\n",
      " [5.5 4.2 1.4 0.2]\n",
      " [5.6 2.7 4.2 1.3]\n",
      " [6.2 2.9 4.3 1.3]\n",
      " [6.7 2.5 5.8 1.8]\n",
      " [6.1 3.  4.9 1.8]\n",
      " [6.7 3.1 5.6 2.4]\n",
      " [4.6 3.2 1.4 0.2]\n",
      " [7.7 3.8 6.7 2.2]\n",
      " [5.3 3.7 1.5 0.2]\n",
      " [5.7 3.8 1.7 0.3]\n",
      " [5.  3.5 1.6 0.6]\n",
      " [5.1 3.5 1.4 0.3]\n",
      " [6.3 3.3 6.  2.5]\n",
      " [4.4 3.  1.3 0.2]\n",
      " [5.  3.  1.6 0.2]\n",
      " [5.1 3.8 1.5 0.3]\n",
      " [6.  2.9 4.5 1.5]\n",
      " [5.2 4.1 1.5 0.1]\n",
      " [6.3 2.5 4.9 1.5]\n",
      " [6.2 2.2 4.5 1.5]\n",
      " [6.4 3.1 5.5 1.8]\n",
      " [6.3 2.3 4.4 1.3]\n",
      " [4.4 2.9 1.4 0.2]\n",
      " [4.6 3.1 1.5 0.2]\n",
      " [4.9 3.  1.4 0.2]\n",
      " [5.2 2.7 3.9 1.4]\n",
      " [5.7 2.8 4.1 1.3]\n",
      " [7.  3.2 4.7 1.4]\n",
      " [6.7 3.3 5.7 2.5]\n",
      " [5.5 2.3 4.  1.3]\n",
      " [5.4 3.9 1.7 0.4]\n",
      " [5.7 3.  4.2 1.2]\n",
      " [6.4 3.2 5.3 2.3]\n",
      " [5.  3.5 1.3 0.3]\n",
      " [6.2 2.8 4.8 1.8]\n",
      " [6.7 3.3 5.7 2.1]\n",
      " [5.7 2.8 4.5 1.3]\n",
      " [5.  3.4 1.5 0.2]\n",
      " [5.8 4.  1.2 0.2]\n",
      " [5.1 3.8 1.9 0.4]\n",
      " [5.6 2.8 4.9 2. ]\n",
      " [4.9 2.4 3.3 1. ]\n",
      " [5.4 3.7 1.5 0.2]\n",
      " [7.3 2.9 6.3 1.8]\n",
      " [5.5 2.5 4.  1.3]\n",
      " [7.7 3.  6.1 2.3]\n",
      " [5.2 3.5 1.5 0.2]\n",
      " [5.1 3.3 1.7 0.5]\n",
      " [5.7 2.9 4.2 1.3]\n",
      " [5.7 2.6 3.5 1. ]\n",
      " [6.  3.  4.8 1.8]\n",
      " [5.6 2.9 3.6 1.3]\n",
      " [6.4 2.8 5.6 2.1]\n",
      " [5.8 2.8 5.1 2.4]\n",
      " [5.9 3.2 4.8 1.8]\n",
      " [5.8 2.7 4.1 1. ]\n",
      " [6.2 3.4 5.4 2.3]\n",
      " [6.5 3.  5.2 2. ]\n",
      " [4.9 3.6 1.4 0.1]\n",
      " [6.4 2.9 4.3 1.3]\n",
      " [7.2 3.  5.8 1.6]\n",
      " [4.9 3.1 1.5 0.2]\n",
      " [6.4 2.8 5.6 2.2]\n",
      " [7.2 3.2 6.  1.8]\n",
      " [4.8 3.  1.4 0.3]\n",
      " [5.8 2.6 4.  1.2]\n",
      " [7.2 3.6 6.1 2.5]\n",
      " [4.8 3.4 1.9 0.2]\n",
      " [5.8 2.7 3.9 1.2]\n",
      " [6.1 2.8 4.  1.3]\n",
      " [6.8 2.8 4.8 1.4]\n",
      " [4.3 3.  1.1 0.1]\n",
      " [5.5 2.4 3.7 1. ]\n",
      " [6.1 3.  4.6 1.4]\n",
      " [5.5 2.4 3.8 1.1]]\n",
      "X_test 값 :  [[6.8 3.  5.5 2.1]\n",
      " [6.7 3.  5.2 2.3]\n",
      " [6.3 2.8 5.1 1.5]\n",
      " [6.3 3.3 4.7 1.6]\n",
      " [6.4 2.7 5.3 1.9]\n",
      " [4.9 3.1 1.5 0.1]\n",
      " [6.7 3.1 4.4 1.4]\n",
      " [5.7 4.4 1.5 0.4]\n",
      " [4.8 3.1 1.6 0.2]\n",
      " [6.1 2.9 4.7 1.4]\n",
      " [6.  2.2 5.  1.5]\n",
      " [6.  2.2 4.  1. ]\n",
      " [5.4 3.  4.5 1.5]\n",
      " [5.7 2.5 5.  2. ]\n",
      " [6.9 3.1 5.4 2.1]\n",
      " [4.5 2.3 1.3 0.3]\n",
      " [6.3 2.9 5.6 1.8]\n",
      " [5.6 3.  4.5 1.5]\n",
      " [6.5 3.2 5.1 2. ]\n",
      " [5.8 2.7 5.1 1.9]\n",
      " [5.6 2.5 3.9 1.1]\n",
      " [4.7 3.2 1.3 0.2]\n",
      " [4.6 3.6 1.  0.2]\n",
      " [6.4 3.2 4.5 1.5]\n",
      " [4.8 3.  1.4 0.1]\n",
      " [4.8 3.4 1.6 0.2]\n",
      " [5.9 3.  5.1 1.8]\n",
      " [6.6 3.  4.4 1.4]\n",
      " [5.4 3.9 1.3 0.4]\n",
      " [6.  3.4 4.5 1.6]]\n",
      "y_train 값 :  [0 2 2 0 0 2 2 1 0 1 1 2 0 1 2 1 1 0 2 0 2 2 1 2 1 0 0 1 0 0 2 2 2 0 0 0 1\n",
      " 0 1 2 2 1 1 2 2 0 1 1 2 2 2 0 2 0 0 0 0 2 0 0 0 1 0 1 1 2 1 0 0 0 1 1 1 2\n",
      " 1 0 1 2 0 2 2 1 0 0 0 2 1 0 2 1 2 0 0 1 1 2 1 2 2 1 1 2 2 0 1 2 0 2 2 0 1\n",
      " 2 0 1 1 1 0 1 1 1]\n",
      "y_test 값 :  [2 2 2 1 2 0 1 0 0 1 2 1 1 2 2 0 2 1 2 2 1 0 0 1 0 0 2 1 0 1]\n"
     ]
    }
   ],
   "source": [
    "print('X_train 값 : ',X_train)\n",
    "print('X_test 값 : ',X_test)\n",
    "print('y_train 값 : ',y_train)\n",
    "print('y_test 값 : ',y_test)"
   ]
  },
  {
   "cell_type": "markdown",
   "metadata": {},
   "source": [
    "### 학습과 예측"
   ]
  },
  {
   "cell_type": "code",
   "execution_count": 7,
   "metadata": {},
   "outputs": [
    {
     "data": {
      "text/plain": [
       "DecisionTreeClassifier(ccp_alpha=0.0, class_weight=None, criterion='gini',\n",
       "                       max_depth=None, max_features=None, max_leaf_nodes=None,\n",
       "                       min_impurity_decrease=0.0, min_impurity_split=None,\n",
       "                       min_samples_leaf=1, min_samples_split=2,\n",
       "                       min_weight_fraction_leaf=0.0, presort='deprecated',\n",
       "                       random_state=11, splitter='best')"
      ]
     },
     "execution_count": 7,
     "metadata": {},
     "output_type": "execute_result"
    }
   ],
   "source": [
    "# DecisionTreeClassifier 객체 생성 \n",
    "dt_clf = DecisionTreeClassifier(random_state=11)\n",
    "\n",
    "# 학습 수행 \n",
    "dt_clf.fit(X_train, y_train)"
   ]
  },
  {
   "cell_type": "code",
   "execution_count": 8,
   "metadata": {},
   "outputs": [],
   "source": [
    "# 학습이 완료된 DecisionTreeClassifier 객체에서 테스트 데이터 세트로 예측 수행. \n",
    "pred = dt_clf.predict(X_test)"
   ]
  },
  {
   "cell_type": "markdown",
   "metadata": {},
   "source": [
    "일반적으로 머신러닝 모델의 성능 평가 방법은 여러 가지가 있으나,\n",
    "여기서는 **정확도**를 측정하기 위해 'accuracy' 정확도 측정 사용\n",
    "\n",
    "사이킷런은 정확도 측정을 위해 accuracy_score() 함수를 제공\n",
    "accuracy_score()의 첫 번째 파라미터로 실제 레이블 데이터 세트, 두 번쨰 파라미터로 예측 레이블 데이터 세트를 입력"
   ]
  },
  {
   "cell_type": "code",
   "execution_count": 10,
   "metadata": {},
   "outputs": [
    {
     "name": "stdout",
     "output_type": "stream",
     "text": [
      "예측 정확도: 0.9333\n"
     ]
    }
   ],
   "source": [
    "from sklearn.metrics import accuracy_score\n",
    "print('예측 정확도: {0:.4f}'.format(accuracy_score(y_test,pred)))"
   ]
  },
  {
   "cell_type": "markdown",
   "metadata": {},
   "source": [
    "### 프로세스 정리\n",
    "\n",
    "1. 데이터 세트 분리 : 데이터를 학습 데이터와 테스트 데이터로 분리\n",
    "2. 모델 학습 : 학습 데이터를 기반으로 ML 알고리즘을 적용해 모델을 학습\n",
    "3. 예측 수행 : 학습 된 ML 모델을 이용해 테스트 데이터의 분류(즉, 붓꽃 종류)를 예측\n",
    "4. 평가 : 이렇게 예측 된 결과값과 테스트 데이터의 실제 결과값을 비교해 ML 모델 성능 평가"
   ]
  }
 ],
 "metadata": {
  "kernelspec": {
   "display_name": "Python 3",
   "language": "python",
   "name": "python3"
  },
  "language_info": {
   "codemirror_mode": {
    "name": "ipython",
    "version": 3
   },
   "file_extension": ".py",
   "mimetype": "text/x-python",
   "name": "python",
   "nbconvert_exporter": "python",
   "pygments_lexer": "ipython3",
   "version": "3.7.7"
  }
 },
 "nbformat": 4,
 "nbformat_minor": 2
}
