{
 "cells": [
  {
   "cell_type": "markdown",
   "metadata": {},
   "source": [
    "2.1 사이킷런 소개와 특징\n",
    "=====\n",
    "\n",
    "## 2.1.1 사이킷런 소개\n",
    "* 사이킷런(scikit-leran)은 파이썬 머신러닝 라이브러리 중 *가장* 많이 사용되는 라이브러리\n",
    "* 사이킷런은 파이썬 기반의 머신러닝을 위한 가장 쉽고 효율적인 개발 라이브러리를 제공\n",
    "* 최근 텐서플로, 케라스 등 딥러닝 전문 라이브러리가 나타났지만, 여전히 많은 데이터 분석가들이 의존하는 대표적 파이썬 ML 라이브러리\n",
    "\n",
    "## 2.1.2 사이킷런 특징\n",
    "* 파이썬 기반의 다른 머신러닝 패키지도 사이킷런 스타일의 API를 지향할 정도로 쉽고 가장 파이썬스러운API를 제공\n",
    "* 머신러닝을 위한 매우 다양한 알고리즘과 개발을 위한 편리한 프레임워크와 API를 제공\n",
    "* 많은 환경에서 사용되는 성숙한 라이브러리\n",
    "\n",
    "## 2.1.3 사이킷런 설치\n",
    "\n",
    "Anaconda를 설치하면 기본으로 사이킷런까지 설치가 완료되기에 별도의 설치가 필요없음.\n",
    "만약 별도 설치를 하려면 pip와 conda 명령어를 통해 설치 가능.\n",
    "\n",
    "* conda로 설치하는 경우\n",
    "```bash\n",
    "$ conda install scikit-learn\n",
    "```\n",
    "\n",
    "* pip로 설치하는 경우\n",
    "```bash\n",
    "$ pip install skikit-learn\n",
    "```\n",
    "\n",
    "## 2.1.4 사이킷런 버전 확인"
   ]
  },
  {
   "cell_type": "code",
   "execution_count": null,
   "metadata": {},
   "outputs": [],
   "source": [
    "import sklearn\n",
    "\n",
    "print(sklearn.__version__)"
   ]
  }
 ],
 "metadata": {
  "kernelspec": {
   "display_name": "Python 3",
   "language": "python",
   "name": "python3"
  },
  "language_info": {
   "codemirror_mode": {
    "name": "ipython",
    "version": 3
   },
   "file_extension": ".py",
   "mimetype": "text/x-python",
   "name": "python",
   "nbconvert_exporter": "python",
   "pygments_lexer": "ipython3",
   "version": "3.7.7"
  }
 },
 "nbformat": 4,
 "nbformat_minor": 4
}
